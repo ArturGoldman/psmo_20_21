{
 "cells": [
  {
   "cell_type": "markdown",
   "metadata": {},
   "source": [
    "## Прикладная статистика в машинном обучении"
   ]
  },
  {
   "cell_type": "markdown",
   "metadata": {},
   "source": [
    "### Семинар 5: Bootstrap"
   ]
  },
  {
   "cell_type": "markdown",
   "metadata": {},
   "source": [
    "#### Идея."
   ]
  },
  {
   "cell_type": "markdown",
   "metadata": {},
   "source": [
    "Пусть на основе выборки $X_1,$ $\\ldots$, $X_n$ мы каким-то способом получили точечную оценку неизвестного параметра $\\theta$ и обозначили её $\\hat{\\theta}$. Теперь наша цель состоит в том, чтобы построить асимптотический доверительный интервал для $\\theta$. Bootstrap предлагает оценить дисперсию $\\hat{\\theta}$ на основе тех же данных, на которых была получена сама оценка $\\hat{\\theta}$."
   ]
  },
  {
   "cell_type": "markdown",
   "metadata": {},
   "source": [
    "> \"Pull oneself up by one's bootstraps\": *(idiomatic) To succeed only by one's own efforts or abilities.* (Wiktionary)"
   ]
  },
  {
   "cell_type": "markdown",
   "metadata": {},
   "source": [
    "---"
   ]
  },
  {
   "cell_type": "markdown",
   "metadata": {},
   "source": [
    "#### Построение выборки (Sampling)."
   ]
  },
  {
   "cell_type": "markdown",
   "metadata": {},
   "source": [
    "Вспомним, что *построением выборки (sampling)* называется выбор элементов генеральной совокупности (какого-то множетства или распределения). Случайная выборка строится путём случайного выбора наблюдений. Случайную выборку можно строить двумя способами:\n",
    "- без возвращения (without replacement, simple random sampling),\n",
    "- с возвращением (with replacement).\n",
    "\n",
    "**Вопросы на подумать:**\n",
    "1. Можно ли рассматривать построение выборки с возвращением из множества $\\{1, 2, \\ldots, 8\\}$ как процедуру последовательного подбрасывания восьмигранной кости?\n",
    "2. Когда на практике построение выборки с возвращением и без возвращения эквивалентны?"
   ]
  },
  {
   "cell_type": "markdown",
   "metadata": {},
   "source": [
    "---"
   ]
  },
  {
   "cell_type": "markdown",
   "metadata": {},
   "source": [
    "#### Эмпирическая функция распределения.\n",
    "\n",
    "Также вспомним, что на основе выборки можно построить оценку функции распределения, из которого были взяты наблюдения. Для этого для каждого значения $x_i$ рассчитывается его доля в выборке."
   ]
  },
  {
   "cell_type": "markdown",
   "metadata": {},
   "source": [
    "---"
   ]
  },
  {
   "cell_type": "markdown",
   "metadata": {},
   "source": [
    "#### Построение boostrap-выборки (Resampling)."
   ]
  },
  {
   "cell_type": "markdown",
   "metadata": {},
   "source": [
    "*Построением boostrap-выборки (resampling)* называется **построение выборки с возвращением из эмпирического распределения**.\n",
    "\n",
    "**Пример 1:** пусть имеется набор чисел $1$, $1$, $2$, $3$, $10$, $11$, $11$, который рассматривается как выборка, взятая из какого-то распределения. Чтобы построить выборку с возвращением из эмпирического распределения, мы должны сложить эти числа в шляпу и не глядя вытаскивать их одно за другим, записывая результат и возвращая число обратно.\n",
    "\n",
    "**Формально:** пусть дана выборка $X_1$, $\\ldots$, $X_n$. Построением boostrap-выборки называется выбор номера $i$ из равновероятного на $\\{1, 2, \\ldots n\\}$ распределения и взятие $X_i$ как одного значения этой выборки.\n",
    "\n",
    "**Продолжение примера 1:** пусть мы хотим построить boostrap-выборку размера 3 для чисел из примера 1. Тогда мы можем подбросить семигранную (так как семь наблюдений) кость три раза и, например, получить:\n",
    "$$\n",
    "3, 3, 7, 1\n",
    "$$\n",
    "Тогда boostrap-выборка будет:\n",
    "$$\n",
    "2, 2, 11, 1\n",
    "$$\n",
    "\n",
    "Будем обозначать boostrap-выборку как $X_1^*$, $\\ldots$, $X_m^*$."
   ]
  },
  {
   "cell_type": "markdown",
   "metadata": {},
   "source": [
    "---"
   ]
  },
  {
   "cell_type": "markdown",
   "metadata": {},
   "source": [
    "#### Эмпирический bootstrap.\n",
    "\n",
    "*Выборкой эмпирического bootstrap* нызвается boostrap-выборка того же размера, что и оригинальная выборка:\n",
    "\n",
    "для выборки $X_1$, $\\ldots$, $X_n$ это $X_1^*$, $\\ldots$, $X_n^*$. Тогда boostrap говорит, что $F \\approx F^*$, а дисперсия статистики, рассчитанной на основе выборки $X$, примерно равна дисперсии статистики, рассчитанной на основе $X^*$."
   ]
  },
  {
   "cell_type": "markdown",
   "metadata": {},
   "source": [
    "#### 1. Reverse bootstrap percentile."
   ]
  },
  {
   "cell_type": "markdown",
   "metadata": {},
   "source": [
    "**Пример 2:** пусть дана выборка из некоторого распределения с конечным матожиданием $\\mu$:"
   ]
  },
  {
   "cell_type": "code",
   "execution_count": null,
   "metadata": {},
   "outputs": [],
   "source": [
    "X = [30, 37, 36, 43, 42, 43, 43, 46, 41, 42]"
   ]
  },
  {
   "cell_type": "markdown",
   "metadata": {},
   "source": [
    "Постройте 80% доверительный интервал для $\\mu$."
   ]
  },
  {
   "cell_type": "code",
   "execution_count": null,
   "metadata": {},
   "outputs": [],
   "source": [
    "import numpy as np\n",
    "import matplotlib.pyplot as plt\n",
    "import seaborn as sns\n",
    "sns.set()"
   ]
  },
  {
   "cell_type": "code",
   "execution_count": null,
   "metadata": {},
   "outputs": [],
   "source": [
    "## Шаг 1: Найдите точечную оценку неизвестного параметра\n",
    "# (ML)\n",
    "mu_hat =\n",
    "mu_hat"
   ]
  },
  {
   "cell_type": "markdown",
   "metadata": {},
   "source": [
    "Мы бы хотели найти распределение величины $d = \\hat{X} - \\mu$, потому что тогда мы можем построить доверительный интервал для $\\mu$ как\n",
    "$$\n",
    "P(d_{0.9} \\le \\bar{X} - \\mu \\le d_{0.1}) = 0.8 \\Rightarrow \\mu \\in [\\bar{x} - d_{0.1}; \\bar{x} - d_{0.9}].\n",
    "$$\n",
    "\n",
    "Boostrap говорит, что распределение $d$ можно приблизить распределением $d^* = \\bar{x^*} - \\bar{x}$.\n",
    "\n",
    "Удача заключается в том, что можно сгенерировать $d^*$ сколько угодно раз, а потому возможно получить достаточно точную оценку распределения $d^*$."
   ]
  },
  {
   "cell_type": "code",
   "execution_count": null,
   "metadata": {},
   "outputs": [],
   "source": [
    "## Шаг 2: Сгенерируйте 20 bootstrap-выборок из X и сохраните их в матрицу n x 20\n",
    "np.random.seed(123)\n",
    "bootstrap_samples = \n",
    "bootstrap_samples"
   ]
  },
  {
   "cell_type": "code",
   "execution_count": null,
   "metadata": {},
   "outputs": [],
   "source": [
    "# Шаг 3: Рассчитайте выборочное среднее по каждой bootstrap-выборке\n",
    "bootstrap_means = \n",
    "bootstrap_means"
   ]
  },
  {
   "cell_type": "code",
   "execution_count": null,
   "metadata": {},
   "outputs": [],
   "source": [
    "# Шаг 4: Рассчитайте d*\n",
    "d_star = \n",
    "d_star"
   ]
  },
  {
   "cell_type": "code",
   "execution_count": null,
   "metadata": {},
   "outputs": [],
   "source": [
    "# Шаг 5: Найдите 0.1 и 0.9 квантили для d_star\n",
    "d_star_quant = \n",
    "d_star_quant"
   ]
  },
  {
   "cell_type": "code",
   "execution_count": null,
   "metadata": {},
   "outputs": [],
   "source": [
    "# Шаг 6: Постройте 80%-ый доверительный интервал для mu\n",
    "LB = \n",
    "UB = \n",
    "print('[', LB, ';', UB, ']')"
   ]
  },
  {
   "cell_type": "markdown",
   "metadata": {},
   "source": [
    "**Пример 3:** для той же выборки постройте 90%-ый доверительный интервал для медианы."
   ]
  },
  {
   "cell_type": "code",
   "execution_count": null,
   "metadata": {},
   "outputs": [],
   "source": [
    "## Шаг 1: Найдите точечную оценку неизвестного параметра\n",
    "med = \n",
    "## Шаг 2: Сгенерируйте 100 boostrap-выборок из X и сохраните их в матрицу n x 100\n",
    "bootstrap_samples = \n",
    "# Шаг 3: Рассчитайте выборочную медиану по каждой bootstrap-выборке\n",
    "bootstrap_medians =\n",
    "# Шаг 4: Рассчитайте d*\n",
    "d_star = \n",
    "# Шаг 5: Найдите 0.05 и 0.95 квантили для d_star\n",
    "d_star_quant = \n",
    "# Шаг 6: Постройте 90%-ый доверительный интервал для медианы\n",
    "LB = \n",
    "UB = \n",
    "print('[', LB, ';', UB, ']')"
   ]
  },
  {
   "cell_type": "markdown",
   "metadata": {},
   "source": [
    "#### 2. t-bootstrap"
   ]
  },
  {
   "cell_type": "markdown",
   "metadata": {},
   "source": [
    "**Идея:** сгенерировать не $d^*$, а \n",
    "$$\n",
    "t^* = \\dfrac{\\hat{\\theta^*} - \\hat{\\theta}}{se^{*}}\n",
    "$$"
   ]
  },
  {
   "cell_type": "markdown",
   "metadata": {},
   "source": [
    "**Пример 4:** для той же выборки постройте 80%-ый доверительный интервал для $\\mu$."
   ]
  },
  {
   "cell_type": "code",
   "execution_count": null,
   "metadata": {},
   "outputs": [],
   "source": [
    "## Шаг 1: Найдите точечную оценку неизвестного параметра\n",
    "x_hat = \n",
    "## Шаг 2: Сгенерируйте 100 boostrap-выборок из X и сохраните их в матрицу n x 100\n",
    "bootstrap_samples = \n",
    "# Шаг 3: Рассчитайте выборочное среднее по каждой bootstrap-выборке\n",
    "bootstrap_means = \n",
    "# Шаг 4: Рассчитайте стандартную ошибку по каждой bootstrap-выборке\n",
    "bootstrap_ses = \n",
    "# Шаг 5: Рассчитайте t*\n",
    "t_star = \n",
    "# Шаг 6: Найдите 0.1 и 0.9 квантили для t_star\n",
    "t_star_quant = \n",
    "# Шаг 7: Постройте 80%-ый доверительный интервал для mu\n",
    "LB = \n",
    "UB = \n",
    "print('[', LB, ';', UB, ']')"
   ]
  },
  {
   "cell_type": "markdown",
   "metadata": {},
   "source": [
    "#### 3. Bootstrap percentile method\n",
    "\n",
    "**!Danger:** не используйте этот метод."
   ]
  },
  {
   "cell_type": "markdown",
   "metadata": {},
   "source": [
    "**Идея:** использовать распределение не $d^*$, а распределение $\\hat{\\theta^*}$.\n",
    "\n",
    "**Пример 5:** для той же выборки постройте 80%-ый доверительный интервал для $\\mu$."
   ]
  },
  {
   "cell_type": "code",
   "execution_count": null,
   "metadata": {},
   "outputs": [],
   "source": [
    "## Шаг 1: Сгенерируйте 100 boostrap-выборок из X и сохраните их в матрицу n x 100\n",
    "bootstrap_samples = \n",
    "# Шаг 2: Рассчитайте выборочное среднее по каждой bootstrap-выборке\n",
    "bootstrap_means = \n",
    "# Шаг 3: Найдите 0.1 и 0.9 квантили для bootstrap_means\n",
    "quant = \n",
    "# Шаг 4: Постройте 80%-ый доверительный интервал для mu\n",
    "LB = \n",
    "UB = \n",
    "print('[', LB, ';', UB, ']')"
   ]
  },
  {
   "cell_type": "markdown",
   "metadata": {},
   "source": [
    "**Пример 6:** покажите, насколько хорошо различные эмпирические доверительные интервалы накрывают истинное значение параметра."
   ]
  },
  {
   "cell_type": "code",
   "execution_count": null,
   "metadata": {},
   "outputs": [],
   "source": []
  },
  {
   "cell_type": "markdown",
   "metadata": {},
   "source": [
    "---"
   ]
  },
  {
   "cell_type": "markdown",
   "metadata": {},
   "source": [
    "#### Параметрический Bootstrap."
   ]
  },
  {
   "cell_type": "markdown",
   "metadata": {},
   "source": [
    "Совпадает с reverse bootstrap percentile за исключением того, что bootstrap-выборка набирается из параметризованного распределения."
   ]
  },
  {
   "cell_type": "markdown",
   "metadata": {},
   "source": [
    "**Пример 7:** предположим, что $X_1$, $\\ldots$, $X_{300}$ -- случайная выборка из экспоненциального exp$(\\lambda)$ распределения. Пусть оказалось так, что $\\bar{X} = 2$. Постройте 95%-ый доверительный интервал для $\\lambda$."
   ]
  },
  {
   "cell_type": "code",
   "execution_count": null,
   "metadata": {},
   "outputs": [],
   "source": [
    "## Шаг 1: Найдите точечную оценку неизвестного параметра\n",
    "lambda_hat = \n",
    "## Шаг 2: Сгенерируйте 1000 boostrap-выборок из X и сохраните их в матрицу n x 1000\n",
    "bootstrap_samples = \n",
    "# Шаг 3: Рассчитайте оценку lambda по каждой bootstrap-выборке\n",
    "lambda_star = \n",
    "# Шаг 4: Рассчитайте d*\n",
    "d_star = \n",
    "# Шаг 5: Найдите 0.05 и 0.95 квантили для d_star\n",
    "d_star_quant = \n",
    "# Шаг 6: Постройте 95%-ый доверительный интервал для lambda\n",
    "LB = \n",
    "UB = \n",
    "print('[', LB, ';', UB, ']')"
   ]
  },
  {
   "cell_type": "markdown",
   "metadata": {},
   "source": [
    "---"
   ]
  },
  {
   "cell_type": "markdown",
   "metadata": {},
   "source": [
    "#### Источники мудрости:\n",
    "[1] [Tim Hesterberg \"What Teachers Should Know about the Bootstrap:Resampling in the Undergraduate StatisticsCurriculum?\"](https://arxiv.org/pdf/1411.5279.pdf)\n",
    "\n",
    "[2] [Jeremy Orloff, Jonathan Bloom \"Bootstrap Confidence Intervals\"](https://ocw.mit.edu/courses/mathematics/18-05-introduction-to-probability-and-statistics-spring-2014/readings/MIT18_05S14_Reading24.pdf)"
   ]
  }
 ],
 "metadata": {
  "kernelspec": {
   "display_name": "Python 3",
   "language": "python",
   "name": "python3"
  },
  "language_info": {
   "codemirror_mode": {
    "name": "ipython",
    "version": 3
   },
   "file_extension": ".py",
   "mimetype": "text/x-python",
   "name": "python",
   "nbconvert_exporter": "python",
   "pygments_lexer": "ipython3",
   "version": "3.8.3"
  }
 },
 "nbformat": 4,
 "nbformat_minor": 4
}
