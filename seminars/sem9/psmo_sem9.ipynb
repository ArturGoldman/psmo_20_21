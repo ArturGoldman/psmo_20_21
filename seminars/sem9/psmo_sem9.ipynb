{
 "cells": [
  {
   "cell_type": "markdown",
   "metadata": {},
   "source": [
    "# Прикладная статистика в машинном обучении\n",
    "\n",
    "## Семинар 9. Теорема Гаусса-Маркова и гетероскедастичность."
   ]
  },
  {
   "cell_type": "markdown",
   "metadata": {},
   "source": [
    "### Теорема Гаусса-Маркова.\n",
    "---"
   ]
  },
  {
   "cell_type": "markdown",
   "metadata": {},
   "source": [
    "**Теорема.** Если\n",
    "1. $y = X\\beta + u$, $\\beta$ -- константы.\n",
    "2. Оценивается регрессия $\\hat{y} = X\\hat{\\beta}$ при помощи МНК.\n",
    "3. Матрица $X$ детерминирована и имеет полный ранг.\n",
    "4. $\\mathbb{E}(u) = 0, \\mathrm{Var}(u) = \\sigma^2 I$.\n",
    "5. $n \\ge k$,\n",
    "\n",
    "то\n",
    "1. $\\hat{\\beta}$ существуют и единственны.\n",
    "2. $\\hat{\\beta}$ линейны по $y$.\n",
    "3. $\\mathbb{E}(\\hat{\\beta}) = \\beta$.\n",
    "4. $\\hat{\\beta}$ эффективны в классе линейных по $y$ несмещённых оценок."
   ]
  },
  {
   "cell_type": "markdown",
   "metadata": {},
   "source": [
    "### Гетероскедастичность.\n",
    "---"
   ]
  },
  {
   "cell_type": "markdown",
   "metadata": {},
   "source": [
    "#### Определение."
   ]
  },
  {
   "cell_type": "markdown",
   "metadata": {},
   "source": [
    "Нарушение предпосылки ТГМ: $\\mathrm{Var}(u_i) = \\sigma_i^2 \\ne \\sigma$."
   ]
  },
  {
   "cell_type": "code",
   "execution_count": 16,
   "metadata": {},
   "outputs": [],
   "source": [
    "import numpy as np\n",
    "import pandas as pd\n",
    "import matplotlib.pyplot as plt\n",
    "import seaborn as sns\n",
    "sns.set()\n",
    "\n",
    "# Статистика\n",
    "import statsmodels.formula.api as smf # Модели и гипотезы\n",
    "import statsmodels.stats.api as sms # Тесты"
   ]
  },
  {
   "cell_type": "code",
   "execution_count": 10,
   "metadata": {},
   "outputs": [
    {
     "data": {
      "text/plain": [
       "Text(0.5, 1.0, 'Гетероскедастичность')"
      ]
     },
     "execution_count": 10,
     "metadata": {},
     "output_type": "execute_result"
    },
    {
     "data": {
      "image/png": "[encoded data removed]",
      "text/plain": [
       "<Figure size 432x288 with 1 Axes>"
      ]
     },
     "metadata": {},
     "output_type": "display_data"
    }
   ],
   "source": [
    "x = np.arange(50)\n",
    "u = [np.random.normal(0, i) for i in range(50)]\n",
    "y = 3 + 2 * x + u\n",
    "\n",
    "plt.scatter(x, y)\n",
    "plt.plot(x, y - u, c='r')\n",
    "plt.xlabel('x')\n",
    "plt.ylabel('y')\n",
    "plt.title('Гетероскедастичность')"
   ]
  },
  {
   "cell_type": "markdown",
   "metadata": {},
   "source": [
    "Проблема: $\\hat{\\sigma}^2 = \\dfrac{RSS}{n-k}$ неверна, а значит неверны $\\mathrm{se}(\\hat{\\beta})$, а значит неверно строятся доверительные интервалы и нельзя доверять результатам проверки гипотез."
   ]
  },
  {
   "cell_type": "markdown",
   "metadata": {},
   "source": [
    "#### Идентификация."
   ]
  },
  {
   "cell_type": "markdown",
   "metadata": {},
   "source": [
    "Существует большое количество различных статистических тестов. Например:\n",
    "\n",
    "1. **Goldfeld-Quandt test.**\n",
    "\n",
    "Тестируется гипотеза $H_0$ против $H_1$:\n",
    "$$\n",
    "\\begin{cases}\n",
    "H_0: \\sigma_i^2 = \\sigma, \\\\\n",
    "H_1: \\sigma_i \\sim X_j.\n",
    "\\end{cases}\n",
    "$$\n",
    "\n",
    "Схема:\n",
    "1. Отсортировать регрессор $X_j$ по возрастанию.\n",
    "2. Разбить отсортированный ряд на три одинаковые части. Предполагается, что первая часть имеет случайную ошибку $\\sigma^2_1$, а третья часть $\\sigma^2_2$. Вторая часть выбрасывается.\n",
    "3. Проверить гипотезу\n",
    "$$\n",
    "\\begin{cases}\n",
    "H_0: \\sigma_1^2 = \\sigma_2^2, \\\\\n",
    "H_1: \\sigma_1^2 \\ne \\sigma_2^2.\n",
    "\\end{cases}\n",
    "$$\n",
    "\n",
    "Для этого оцениваем модель по первой части наблюдений и получаем $RSS_1$, оцениваем по второй части наблюдений и получаем $RSS_2$, а затем используем $F$-статистику:\n",
    "\n",
    "$$\n",
    "F = \\dfrac{RSS_2 / (n_2 - k)}{RSS_1 / (n_1 - k)}.\n",
    "$$\n",
    "\n",
    "Если $H_0$ отвергается, то в данных наблюдается гетероскедастичность из-за $X_j$."
   ]
  },
  {
   "cell_type": "code",
   "execution_count": 145,
   "metadata": {},
   "outputs": [
    {
     "data": {
      "text/html": [
       "<div>\n",
       "<style scoped>\n",
       "    .dataframe tbody tr th:only-of-type {\n",
       "        vertical-align: middle;\n",
       "    }\n",
       "\n",
       "    .dataframe tbody tr th {\n",
       "        vertical-align: top;\n",
       "    }\n",
       "\n",
       "    .dataframe thead th {\n",
       "        text-align: right;\n",
       "    }\n",
       "</style>\n",
       "<table border=\"1\" class=\"dataframe\">\n",
       "  <thead>\n",
       "    <tr style=\"text-align: right;\">\n",
       "      <th></th>\n",
       "      <th>carat</th>\n",
       "      <th>cut</th>\n",
       "      <th>color</th>\n",
       "      <th>clarity</th>\n",
       "      <th>depth</th>\n",
       "      <th>table</th>\n",
       "      <th>price</th>\n",
       "      <th>x</th>\n",
       "      <th>y</th>\n",
       "      <th>z</th>\n",
       "    </tr>\n",
       "  </thead>\n",
       "  <tbody>\n",
       "    <tr>\n",
       "      <th>0</th>\n",
       "      <td>0.23</td>\n",
       "      <td>Ideal</td>\n",
       "      <td>E</td>\n",
       "      <td>SI2</td>\n",
       "      <td>61.5</td>\n",
       "      <td>55.0</td>\n",
       "      <td>326</td>\n",
       "      <td>3.95</td>\n",
       "      <td>3.98</td>\n",
       "      <td>2.43</td>\n",
       "    </tr>\n",
       "    <tr>\n",
       "      <th>1</th>\n",
       "      <td>0.21</td>\n",
       "      <td>Premium</td>\n",
       "      <td>E</td>\n",
       "      <td>SI1</td>\n",
       "      <td>59.8</td>\n",
       "      <td>61.0</td>\n",
       "      <td>326</td>\n",
       "      <td>3.89</td>\n",
       "      <td>3.84</td>\n",
       "      <td>2.31</td>\n",
       "    </tr>\n",
       "    <tr>\n",
       "      <th>2</th>\n",
       "      <td>0.23</td>\n",
       "      <td>Good</td>\n",
       "      <td>E</td>\n",
       "      <td>VS1</td>\n",
       "      <td>56.9</td>\n",
       "      <td>65.0</td>\n",
       "      <td>327</td>\n",
       "      <td>4.05</td>\n",
       "      <td>4.07</td>\n",
       "      <td>2.31</td>\n",
       "    </tr>\n",
       "    <tr>\n",
       "      <th>3</th>\n",
       "      <td>0.29</td>\n",
       "      <td>Premium</td>\n",
       "      <td>I</td>\n",
       "      <td>VS2</td>\n",
       "      <td>62.4</td>\n",
       "      <td>58.0</td>\n",
       "      <td>334</td>\n",
       "      <td>4.20</td>\n",
       "      <td>4.23</td>\n",
       "      <td>2.63</td>\n",
       "    </tr>\n",
       "    <tr>\n",
       "      <th>4</th>\n",
       "      <td>0.31</td>\n",
       "      <td>Good</td>\n",
       "      <td>J</td>\n",
       "      <td>SI2</td>\n",
       "      <td>63.3</td>\n",
       "      <td>58.0</td>\n",
       "      <td>335</td>\n",
       "      <td>4.34</td>\n",
       "      <td>4.35</td>\n",
       "      <td>2.75</td>\n",
       "    </tr>\n",
       "  </tbody>\n",
       "</table>\n",
       "</div>"
      ],
      "text/plain": [
       "   carat      cut color clarity  depth  table  price     x     y     z\n",
       "0   0.23    Ideal     E     SI2   61.5   55.0    326  3.95  3.98  2.43\n",
       "1   0.21  Premium     E     SI1   59.8   61.0    326  3.89  3.84  2.31\n",
       "2   0.23     Good     E     VS1   56.9   65.0    327  4.05  4.07  2.31\n",
       "3   0.29  Premium     I     VS2   62.4   58.0    334  4.20  4.23  2.63\n",
       "4   0.31     Good     J     SI2   63.3   58.0    335  4.34  4.35  2.75"
      ]
     },
     "execution_count": 145,
     "metadata": {},
     "output_type": "execute_result"
    }
   ],
   "source": [
    "data = sns.load_dataset('diamonds')\n",
    "data.head()"
   ]
  },
  {
   "cell_type": "code",
   "execution_count": 146,
   "metadata": {},
   "outputs": [],
   "source": [
    "model = smf.ols('np.log(price) ~ depth + table + x + y + z', data = data).fit()"
   ]
  },
  {
   "cell_type": "code",
   "execution_count": 147,
   "metadata": {},
   "outputs": [
    {
     "data": {
      "text/html": [
       "<table class=\"simpletable\">\n",
       "<caption>OLS Regression Results</caption>\n",
       "<tr>\n",
       "  <th>Dep. Variable:</th>      <td>np.log(price)</td>  <th>  R-squared:         </th> <td>   0.919</td> \n",
       "</tr>\n",
       "<tr>\n",
       "  <th>Model:</th>                   <td>OLS</td>       <th>  Adj. R-squared:    </th> <td>   0.919</td> \n",
       "</tr>\n",
       "<tr>\n",
       "  <th>Method:</th>             <td>Least Squares</td>  <th>  F-statistic:       </th> <td>1.226e+05</td>\n",
       "</tr>\n",
       "<tr>\n",
       "  <th>Date:</th>             <td>Mon, 09 Nov 2020</td> <th>  Prob (F-statistic):</th>  <td>  0.00</td>  \n",
       "</tr>\n",
       "<tr>\n",
       "  <th>Time:</th>                 <td>23:43:05</td>     <th>  Log-Likelihood:    </th> <td> -9493.6</td> \n",
       "</tr>\n",
       "<tr>\n",
       "  <th>No. Observations:</th>      <td> 53940</td>      <th>  AIC:               </th> <td>1.900e+04</td>\n",
       "</tr>\n",
       "<tr>\n",
       "  <th>Df Residuals:</th>          <td> 53934</td>      <th>  BIC:               </th> <td>1.905e+04</td>\n",
       "</tr>\n",
       "<tr>\n",
       "  <th>Df Model:</th>              <td>     5</td>      <th>                     </th>     <td> </td>    \n",
       "</tr>\n",
       "<tr>\n",
       "  <th>Covariance Type:</th>      <td>nonrobust</td>    <th>                     </th>     <td> </td>    \n",
       "</tr>\n",
       "</table>\n",
       "<table class=\"simpletable\">\n",
       "<tr>\n",
       "      <td></td>         <th>coef</th>     <th>std err</th>      <th>t</th>      <th>P>|t|</th>  <th>[0.025</th>    <th>0.975]</th>  \n",
       "</tr>\n",
       "<tr>\n",
       "  <th>Intercept</th> <td>    2.8430</td> <td>    0.079</td> <td>   35.811</td> <td> 0.000</td> <td>    2.687</td> <td>    2.999</td>\n",
       "</tr>\n",
       "<tr>\n",
       "  <th>depth</th>     <td>    0.0093</td> <td>    0.001</td> <td>    8.986</td> <td> 0.000</td> <td>    0.007</td> <td>    0.011</td>\n",
       "</tr>\n",
       "<tr>\n",
       "  <th>table</th>     <td>   -0.0109</td> <td>    0.001</td> <td>  -18.413</td> <td> 0.000</td> <td>   -0.012</td> <td>   -0.010</td>\n",
       "</tr>\n",
       "<tr>\n",
       "  <th>x</th>         <td>    0.7973</td> <td>    0.007</td> <td>  118.034</td> <td> 0.000</td> <td>    0.784</td> <td>    0.811</td>\n",
       "</tr>\n",
       "<tr>\n",
       "  <th>y</th>         <td>    0.0365</td> <td>    0.005</td> <td>    7.425</td> <td> 0.000</td> <td>    0.027</td> <td>    0.046</td>\n",
       "</tr>\n",
       "<tr>\n",
       "  <th>z</th>         <td>    0.0615</td> <td>    0.009</td> <td>    7.204</td> <td> 0.000</td> <td>    0.045</td> <td>    0.078</td>\n",
       "</tr>\n",
       "</table>\n",
       "<table class=\"simpletable\">\n",
       "<tr>\n",
       "  <th>Omnibus:</th>       <td>24199.104</td> <th>  Durbin-Watson:     </th>  <td>   1.346</td>  \n",
       "</tr>\n",
       "<tr>\n",
       "  <th>Prob(Omnibus):</th>  <td> 0.000</td>   <th>  Jarque-Bera (JB):  </th> <td>2130668.668</td>\n",
       "</tr>\n",
       "<tr>\n",
       "  <th>Skew:</th>           <td> 1.252</td>   <th>  Prob(JB):          </th>  <td>    0.00</td>  \n",
       "</tr>\n",
       "<tr>\n",
       "  <th>Kurtosis:</th>       <td>33.688</td>   <th>  Cond. No.          </th>  <td>5.43e+03</td>  \n",
       "</tr>\n",
       "</table><br/><br/>Warnings:<br/>[1] Standard Errors assume that the covariance matrix of the errors is correctly specified.<br/>[2] The condition number is large, 5.43e+03. This might indicate that there are<br/>strong multicollinearity or other numerical problems."
      ],
      "text/plain": [
       "<class 'statsmodels.iolib.summary.Summary'>\n",
       "\"\"\"\n",
       "                            OLS Regression Results                            \n",
       "==============================================================================\n",
       "Dep. Variable:          np.log(price)   R-squared:                       0.919\n",
       "Model:                            OLS   Adj. R-squared:                  0.919\n",
       "Method:                 Least Squares   F-statistic:                 1.226e+05\n",
       "Date:                Mon, 09 Nov 2020   Prob (F-statistic):               0.00\n",
       "Time:                        23:43:05   Log-Likelihood:                -9493.6\n",
       "No. Observations:               53940   AIC:                         1.900e+04\n",
       "Df Residuals:                   53934   BIC:                         1.905e+04\n",
       "Df Model:                           5                                         \n",
       "Covariance Type:            nonrobust                                         \n",
       "==============================================================================\n",
       "                 coef    std err          t      P>|t|      [0.025      0.975]\n",
       "------------------------------------------------------------------------------\n",
       "Intercept      2.8430      0.079     35.811      0.000       2.687       2.999\n",
       "depth          0.0093      0.001      8.986      0.000       0.007       0.011\n",
       "table         -0.0109      0.001    -18.413      0.000      -0.012      -0.010\n",
       "x              0.7973      0.007    118.034      0.000       0.784       0.811\n",
       "y              0.0365      0.005      7.425      0.000       0.027       0.046\n",
       "z              0.0615      0.009      7.204      0.000       0.045       0.078\n",
       "==============================================================================\n",
       "Omnibus:                    24199.104   Durbin-Watson:                   1.346\n",
       "Prob(Omnibus):                  0.000   Jarque-Bera (JB):          2130668.668\n",
       "Skew:                           1.252   Prob(JB):                         0.00\n",
       "Kurtosis:                      33.688   Cond. No.                     5.43e+03\n",
       "==============================================================================\n",
       "\n",
       "Warnings:\n",
       "[1] Standard Errors assume that the covariance matrix of the errors is correctly specified.\n",
       "[2] The condition number is large, 5.43e+03. This might indicate that there are\n",
       "strong multicollinearity or other numerical problems.\n",
       "\"\"\""
      ]
     },
     "execution_count": 147,
     "metadata": {},
     "output_type": "execute_result"
    }
   ],
   "source": [
    "model.summary()"
   ]
  },
  {
   "cell_type": "code",
   "execution_count": null,
   "metadata": {},
   "outputs": [],
   "source": [
    "?sms.het_goldfeldquandt"
   ]
  },
  {
   "cell_type": "code",
   "execution_count": 27,
   "metadata": {},
   "outputs": [
    {
     "data": {
      "text/plain": [
       "(0.5571425675792742, 0.9999999999999999, 'increasing')"
      ]
     },
     "execution_count": 27,
     "metadata": {},
     "output_type": "execute_result"
    }
   ],
   "source": [
    "# GQ-test: the first value is F-stat\n",
    "sms.het_goldfeldquandt(model.model.endog, model.model.exog)\n",
    "# H0 не отвергается, гетероскедастичность не выявлена"
   ]
  },
  {
   "cell_type": "markdown",
   "metadata": {},
   "source": [
    "2. **Breush-Pagan test.**\n",
    "\n",
    "Тестируется гипотеза $H_0$ против $H_1$:\n",
    "\n",
    "$$\n",
    "\\begin{cases}\n",
    "H_0: \\sigma_i^2 = \\sigma, \\\\\n",
    "H_1: \\sigma_i^2 \\sim f(Z\\alpha),\n",
    "\\end{cases}\n",
    "$$\n",
    "\n",
    "где $f$ -- некоторая гладкая функция, $Z$ -- некоторые регрессоры, которые могут быть и не включены в нашу модель.\n",
    "\n",
    "Схема:\n",
    "1. Оценить регрессию $\\hat{y} = X\\hat{\\beta}$.\n",
    "2. Получить оценку $\\hat{\\sigma}^2 = \\dfrac{RSS}{n}$ (смещённая).\n",
    "3. Создать новую переменную $q := \\dfrac{y-\\hat{y}}{\\hat{\\sigma}^2}$ (поэлементно).\n",
    "4. Оценить регрессию $\\hat{q} = Z\\hat{\\alpha}$.\n",
    "5. Протестировать $H_0$ при помощи статистики\n",
    "$$\n",
    "\\chi^2 = \\dfrac{ESS}{2} \\sim \\chi^2_{\\text{число регрессоров в $Z$, не считая константный}}.\n",
    "$$"
   ]
  },
  {
   "cell_type": "code",
   "execution_count": 28,
   "metadata": {},
   "outputs": [],
   "source": [
    "?sms.het_breuschpagan"
   ]
  },
  {
   "cell_type": "code",
   "execution_count": 29,
   "metadata": {},
   "outputs": [
    {
     "data": {
      "text/plain": [
       "(318.88832638372446,\n",
       " 8.68231926481354e-67,\n",
       " 64.14981882459652,\n",
       " 5.505510514064581e-67)"
      ]
     },
     "execution_count": 29,
     "metadata": {},
     "output_type": "execute_result"
    }
   ],
   "source": [
    "# Первое значение -- значение статистики\n",
    "sms.het_breuschpagan(model.resid, model.model.exog)\n",
    "# H0 отвергается, гетероскедастичность выявлена"
   ]
  },
  {
   "cell_type": "markdown",
   "metadata": {},
   "source": [
    "3. **White test.**\n",
    "\n",
    "Тестируется гипотеза $H_0$ против $H_1$:\n",
    "\n",
    "$$\n",
    "\\begin{cases}\n",
    "H_0: \\sigma_i^2 = \\sigma, \\\\\n",
    "H_1: \\exists i: \\sigma_i^2 \\ne \\sigma,\n",
    "\\end{cases}\n",
    "$$\n",
    "\n",
    "Схема:\n",
    "1. Оценить регрессию $\\hat{y} = X\\hat{\\beta}$.\n",
    "2. Оценить регрессию $(y_i - \\hat{y}_i)^2 = a_0 + \\sum_jb_jX_j + \\sum_jc_jX_j^2 + \\sum_{i<j}d_jX_iX_j$. Найти $R^2$ в этой регрессии.\n",
    "3. Проверить $H_0$ при помощи статистики $\\chi^2 = n \\times R^2 \\sim \\chi^2_{1 + j + j + (j^2 - j)/2}$."
   ]
  },
  {
   "cell_type": "code",
   "execution_count": 30,
   "metadata": {},
   "outputs": [],
   "source": [
    "?sms.het_white"
   ]
  },
  {
   "cell_type": "code",
   "execution_count": 31,
   "metadata": {},
   "outputs": [
    {
     "data": {
      "text/plain": [
       "(8939.302502210943, 0.0, 535.5453119814345, 0.0)"
      ]
     },
     "execution_count": 31,
     "metadata": {},
     "output_type": "execute_result"
    }
   ],
   "source": [
    "# Первое значение -- значение статистики\n",
    "sms.het_white(model.resid, model.model.exog)\n",
    "# H0 отвергается, гетероскедастичность выявлена"
   ]
  },
  {
   "cell_type": "markdown",
   "metadata": {},
   "source": [
    "#### Корректировка гетероскедастичности."
   ]
  },
  {
   "cell_type": "markdown",
   "metadata": {},
   "source": [
    "**I.** В теории: пусть знаем $\\sigma_i^2$ для всех $i$. В этом случае мы можем \"исправить\" модель так, чтобы гетероскедастичности не было."
   ]
  },
  {
   "cell_type": "markdown",
   "metadata": {},
   "source": [
    "**Задание 1.** Рассмотрим модель $y_i = \\beta_0 + \\beta_1x_i + u$, $\\mathrm{Var}(u_i) = \\dfrac{\\sigma^2}{(3 + x_i)^2}$. Скорректируйте гетероскедастичность в модели и выпишите выражение для оценок скорректированной модели.\n",
    "\n",
    "**Задание 2.** Рассмотрим модель $y = X\\beta + u$, $\\mathrm{Var}(u) = \\sigma^2A$, $A$ известна. \n",
    "1. Скорректируйте гетероскедастичность в модели и выпишите выражение для оценок этой модели.\n",
    "2. Выведите дисперсию оценок скорректированной модели.\n",
    "3. Выведите дисперсию оценок МНК. "
   ]
  },
  {
   "cell_type": "markdown",
   "metadata": {},
   "source": [
    "**II.** На практике: $\\sigma_i^2$ не знаем. Тогда есть два варианта.\n",
    "\n",
    "**Вариант 1:** исправить только доверительные инетрвалы для параметров модели, оцениваемой при помощи МНК,так, чтобы они были устойчивы к гетероскедастичности. Тогда\n",
    "\n",
    "$$\n",
    "\\hat{\\mathrm{Var}}(\\hat{\\beta}_{OLS})_{HC} = (X'X)^{-1}X'\\hat{\\mathrm{Var}}(u)_{HC}X(X'X)^{-1}.\n",
    "$$"
   ]
  },
  {
   "cell_type": "markdown",
   "metadata": {},
   "source": [
    "$\\hat{\\mathrm{Var}}(u)_{HC}$ можно взять разными способами:\n",
    "1. $HC_0$: $\\hat{\\mathrm{Var}}(u)_{HC_0} = \\mathrm{diag}(\\hat{u}^2_1, \\ldots, \\hat{u}^2_n)$.\n",
    "2. $HC_3$: $\\hat{\\mathrm{Var}}(u)_{HC_3} = \\mathrm{diag}(\\hat{u}^2_{1, CV}, \\ldots, \\hat{u}^2_{n, CV})$."
   ]
  },
  {
   "cell_type": "markdown",
   "metadata": {},
   "source": [
    "**Задание 3.** Рассмотрим модель $y_i = \\beta x_i + u_i$. Известно, что $y_1 = y_2 = y_3 = 2$, $x_1 = x_2 = 1$, $x_3 = 4$.\n",
    "1. Найдите $\\hat{\\beta}_{OLS}$.\n",
    "2. Найдите $\\hat{\\mathrm{Var}}(\\hat{\\beta_{OLS}})_{HC_0}$.\n",
    "3. Найдите $\\hat{\\mathrm{Var}}(\\hat{\\beta_{OLS}})_{HC_3}$."
   ]
  },
  {
   "cell_type": "code",
   "execution_count": 40,
   "metadata": {},
   "outputs": [
    {
     "data": {
      "text/html": [
       "<div>\n",
       "<style scoped>\n",
       "    .dataframe tbody tr th:only-of-type {\n",
       "        vertical-align: middle;\n",
       "    }\n",
       "\n",
       "    .dataframe tbody tr th {\n",
       "        vertical-align: top;\n",
       "    }\n",
       "\n",
       "    .dataframe thead th {\n",
       "        text-align: right;\n",
       "    }\n",
       "</style>\n",
       "<table border=\"1\" class=\"dataframe\">\n",
       "  <thead>\n",
       "    <tr style=\"text-align: right;\">\n",
       "      <th></th>\n",
       "      <th>Intercept</th>\n",
       "      <th>depth</th>\n",
       "      <th>table</th>\n",
       "      <th>x</th>\n",
       "      <th>y</th>\n",
       "      <th>z</th>\n",
       "    </tr>\n",
       "  </thead>\n",
       "  <tbody>\n",
       "    <tr>\n",
       "      <th>Intercept</th>\n",
       "      <td>0.006303</td>\n",
       "      <td>-7.520541e-05</td>\n",
       "      <td>-2.917492e-05</td>\n",
       "      <td>-1.201055e-04</td>\n",
       "      <td>-3.607090e-05</td>\n",
       "      <td>2.583795e-04</td>\n",
       "    </tr>\n",
       "    <tr>\n",
       "      <th>depth</th>\n",
       "      <td>-0.000075</td>\n",
       "      <td>1.077368e-06</td>\n",
       "      <td>1.561260e-07</td>\n",
       "      <td>2.118084e-06</td>\n",
       "      <td>4.742715e-07</td>\n",
       "      <td>-4.281410e-06</td>\n",
       "    </tr>\n",
       "    <tr>\n",
       "      <th>table</th>\n",
       "      <td>-0.000029</td>\n",
       "      <td>1.561260e-07</td>\n",
       "      <td>3.530415e-07</td>\n",
       "      <td>-2.831128e-07</td>\n",
       "      <td>1.047273e-07</td>\n",
       "      <td>7.671272e-08</td>\n",
       "    </tr>\n",
       "    <tr>\n",
       "      <th>x</th>\n",
       "      <td>-0.000120</td>\n",
       "      <td>2.118084e-06</td>\n",
       "      <td>-2.831128e-07</td>\n",
       "      <td>4.562656e-05</td>\n",
       "      <td>-2.053421e-05</td>\n",
       "      <td>-3.904137e-05</td>\n",
       "    </tr>\n",
       "    <tr>\n",
       "      <th>y</th>\n",
       "      <td>-0.000036</td>\n",
       "      <td>4.742715e-07</td>\n",
       "      <td>1.047273e-07</td>\n",
       "      <td>-2.053421e-05</td>\n",
       "      <td>2.417944e-05</td>\n",
       "      <td>-5.709749e-06</td>\n",
       "    </tr>\n",
       "    <tr>\n",
       "      <th>z</th>\n",
       "      <td>0.000258</td>\n",
       "      <td>-4.281410e-06</td>\n",
       "      <td>7.671272e-08</td>\n",
       "      <td>-3.904137e-05</td>\n",
       "      <td>-5.709749e-06</td>\n",
       "      <td>7.293067e-05</td>\n",
       "    </tr>\n",
       "  </tbody>\n",
       "</table>\n",
       "</div>"
      ],
      "text/plain": [
       "           Intercept         depth         table             x             y  \\\n",
       "Intercept   0.006303 -7.520541e-05 -2.917492e-05 -1.201055e-04 -3.607090e-05   \n",
       "depth      -0.000075  1.077368e-06  1.561260e-07  2.118084e-06  4.742715e-07   \n",
       "table      -0.000029  1.561260e-07  3.530415e-07 -2.831128e-07  1.047273e-07   \n",
       "x          -0.000120  2.118084e-06 -2.831128e-07  4.562656e-05 -2.053421e-05   \n",
       "y          -0.000036  4.742715e-07  1.047273e-07 -2.053421e-05  2.417944e-05   \n",
       "z           0.000258 -4.281410e-06  7.671272e-08 -3.904137e-05 -5.709749e-06   \n",
       "\n",
       "                      z  \n",
       "Intercept  2.583795e-04  \n",
       "depth     -4.281410e-06  \n",
       "table      7.671272e-08  \n",
       "x         -3.904137e-05  \n",
       "y         -5.709749e-06  \n",
       "z          7.293067e-05  "
      ]
     },
     "execution_count": 40,
     "metadata": {},
     "output_type": "execute_result"
    }
   ],
   "source": [
    "model.cov_params()"
   ]
  },
  {
   "cell_type": "code",
   "execution_count": 43,
   "metadata": {},
   "outputs": [
    {
     "data": {
      "text/plain": [
       "array([[ 2.53646463e-02, -3.79811138e-04, -3.70015534e-05,\n",
       "        -1.64932777e-03, -1.37831330e-03,  4.96374117e-03],\n",
       "       [-3.79811138e-04,  6.02318499e-06,  1.90578318e-07,\n",
       "         3.32326293e-05,  1.65964402e-05, -8.15647500e-05],\n",
       "       [-3.70015534e-05,  1.90578318e-07,  4.89255718e-07,\n",
       "        -6.41399781e-06,  5.51885356e-06,  6.46117971e-07],\n",
       "       [-1.64932777e-03,  3.32326293e-05, -6.41399781e-06,\n",
       "         1.70474508e-03, -1.30321102e-03, -6.59553761e-04],\n",
       "       [-1.37831330e-03,  1.65964402e-05,  5.51885356e-06,\n",
       "        -1.30321102e-03,  1.42545309e-03, -1.88329799e-04],\n",
       "       [ 4.96374117e-03, -8.15647500e-05,  6.46117971e-07,\n",
       "        -6.59553761e-04, -1.88329799e-04,  1.38362462e-03]])"
      ]
     },
     "execution_count": 43,
     "metadata": {},
     "output_type": "execute_result"
    }
   ],
   "source": [
    "model.cov_HC0"
   ]
  },
  {
   "cell_type": "code",
   "execution_count": 44,
   "metadata": {},
   "outputs": [
    {
     "data": {
      "text/plain": [
       "Intercept    0.159263\n",
       "depth        0.002454\n",
       "table        0.000699\n",
       "x            0.041289\n",
       "y            0.037755\n",
       "z            0.037197\n",
       "dtype: float64"
      ]
     },
     "execution_count": 44,
     "metadata": {},
     "output_type": "execute_result"
    }
   ],
   "source": [
    "model.HC0_se"
   ]
  },
  {
   "cell_type": "code",
   "execution_count": 48,
   "metadata": {},
   "outputs": [
    {
     "data": {
      "text/html": [
       "<table class=\"simpletable\">\n",
       "<caption>OLS Regression Results</caption>\n",
       "<tr>\n",
       "  <th>Dep. Variable:</th>      <td>np.log(price)</td>  <th>  R-squared:         </th> <td>   0.919</td> \n",
       "</tr>\n",
       "<tr>\n",
       "  <th>Model:</th>                   <td>OLS</td>       <th>  Adj. R-squared:    </th> <td>   0.919</td> \n",
       "</tr>\n",
       "<tr>\n",
       "  <th>Method:</th>             <td>Least Squares</td>  <th>  F-statistic:       </th> <td>4.141e+04</td>\n",
       "</tr>\n",
       "<tr>\n",
       "  <th>Date:</th>             <td>Mon, 09 Nov 2020</td> <th>  Prob (F-statistic):</th>  <td>  0.00</td>  \n",
       "</tr>\n",
       "<tr>\n",
       "  <th>Time:</th>                 <td>21:44:22</td>     <th>  Log-Likelihood:    </th> <td> -9493.6</td> \n",
       "</tr>\n",
       "<tr>\n",
       "  <th>No. Observations:</th>      <td> 53940</td>      <th>  AIC:               </th> <td>1.900e+04</td>\n",
       "</tr>\n",
       "<tr>\n",
       "  <th>Df Residuals:</th>          <td> 53934</td>      <th>  BIC:               </th> <td>1.905e+04</td>\n",
       "</tr>\n",
       "<tr>\n",
       "  <th>Df Model:</th>              <td>     5</td>      <th>                     </th>     <td> </td>    \n",
       "</tr>\n",
       "<tr>\n",
       "  <th>Covariance Type:</th>         <td>HC0</td>       <th>                     </th>     <td> </td>    \n",
       "</tr>\n",
       "</table>\n",
       "<table class=\"simpletable\">\n",
       "<tr>\n",
       "      <td></td>         <th>coef</th>     <th>std err</th>      <th>z</th>      <th>P>|z|</th>  <th>[0.025</th>    <th>0.975]</th>  \n",
       "</tr>\n",
       "<tr>\n",
       "  <th>Intercept</th> <td>    2.8430</td> <td>    0.159</td> <td>   17.851</td> <td> 0.000</td> <td>    2.531</td> <td>    3.155</td>\n",
       "</tr>\n",
       "<tr>\n",
       "  <th>depth</th>     <td>    0.0093</td> <td>    0.002</td> <td>    3.800</td> <td> 0.000</td> <td>    0.005</td> <td>    0.014</td>\n",
       "</tr>\n",
       "<tr>\n",
       "  <th>table</th>     <td>   -0.0109</td> <td>    0.001</td> <td>  -15.642</td> <td> 0.000</td> <td>   -0.012</td> <td>   -0.010</td>\n",
       "</tr>\n",
       "<tr>\n",
       "  <th>x</th>         <td>    0.7973</td> <td>    0.041</td> <td>   19.310</td> <td> 0.000</td> <td>    0.716</td> <td>    0.878</td>\n",
       "</tr>\n",
       "<tr>\n",
       "  <th>y</th>         <td>    0.0365</td> <td>    0.038</td> <td>    0.967</td> <td> 0.334</td> <td>   -0.037</td> <td>    0.111</td>\n",
       "</tr>\n",
       "<tr>\n",
       "  <th>z</th>         <td>    0.0615</td> <td>    0.037</td> <td>    1.654</td> <td> 0.098</td> <td>   -0.011</td> <td>    0.134</td>\n",
       "</tr>\n",
       "</table>\n",
       "<table class=\"simpletable\">\n",
       "<tr>\n",
       "  <th>Omnibus:</th>       <td>24199.104</td> <th>  Durbin-Watson:     </th>  <td>   1.346</td>  \n",
       "</tr>\n",
       "<tr>\n",
       "  <th>Prob(Omnibus):</th>  <td> 0.000</td>   <th>  Jarque-Bera (JB):  </th> <td>2130668.668</td>\n",
       "</tr>\n",
       "<tr>\n",
       "  <th>Skew:</th>           <td> 1.252</td>   <th>  Prob(JB):          </th>  <td>    0.00</td>  \n",
       "</tr>\n",
       "<tr>\n",
       "  <th>Kurtosis:</th>       <td>33.688</td>   <th>  Cond. No.          </th>  <td>5.43e+03</td>  \n",
       "</tr>\n",
       "</table><br/><br/>Warnings:<br/>[1] Standard Errors are heteroscedasticity robust (HC0)<br/>[2] The condition number is large, 5.43e+03. This might indicate that there are<br/>strong multicollinearity or other numerical problems."
      ],
      "text/plain": [
       "<class 'statsmodels.iolib.summary.Summary'>\n",
       "\"\"\"\n",
       "                            OLS Regression Results                            \n",
       "==============================================================================\n",
       "Dep. Variable:          np.log(price)   R-squared:                       0.919\n",
       "Model:                            OLS   Adj. R-squared:                  0.919\n",
       "Method:                 Least Squares   F-statistic:                 4.141e+04\n",
       "Date:                Mon, 09 Nov 2020   Prob (F-statistic):               0.00\n",
       "Time:                        21:44:22   Log-Likelihood:                -9493.6\n",
       "No. Observations:               53940   AIC:                         1.900e+04\n",
       "Df Residuals:                   53934   BIC:                         1.905e+04\n",
       "Df Model:                           5                                         \n",
       "Covariance Type:                  HC0                                         \n",
       "==============================================================================\n",
       "                 coef    std err          z      P>|z|      [0.025      0.975]\n",
       "------------------------------------------------------------------------------\n",
       "Intercept      2.8430      0.159     17.851      0.000       2.531       3.155\n",
       "depth          0.0093      0.002      3.800      0.000       0.005       0.014\n",
       "table         -0.0109      0.001    -15.642      0.000      -0.012      -0.010\n",
       "x              0.7973      0.041     19.310      0.000       0.716       0.878\n",
       "y              0.0365      0.038      0.967      0.334      -0.037       0.111\n",
       "z              0.0615      0.037      1.654      0.098      -0.011       0.134\n",
       "==============================================================================\n",
       "Omnibus:                    24199.104   Durbin-Watson:                   1.346\n",
       "Prob(Omnibus):                  0.000   Jarque-Bera (JB):          2130668.668\n",
       "Skew:                           1.252   Prob(JB):                         0.00\n",
       "Kurtosis:                      33.688   Cond. No.                     5.43e+03\n",
       "==============================================================================\n",
       "\n",
       "Warnings:\n",
       "[1] Standard Errors are heteroscedasticity robust (HC0)\n",
       "[2] The condition number is large, 5.43e+03. This might indicate that there are\n",
       "strong multicollinearity or other numerical problems.\n",
       "\"\"\""
      ]
     },
     "execution_count": 48,
     "metadata": {},
     "output_type": "execute_result"
    }
   ],
   "source": [
    "# Модель можно переоценить с учётом робастных стандартных ошибок\n",
    "model_hc = smf.ols('np.log(price) ~ depth + table + x + y + z', data = data).fit(cov_type = 'HC0')\n",
    "model_hc.summary()"
   ]
  },
  {
   "cell_type": "markdown",
   "metadata": {},
   "source": [
    "**Вариант 2.** Использовать FGLS.\n",
    "\n",
    "$$\n",
    "\\hat{\\beta}_{FGLS} = (X'\\hat{\\Omega}^{-1}X)^{-1}X'\\hat{\\Omega}^{-1}y\n",
    "$$\n",
    "\n",
    "$\\hat{\\Omega}$ можно оценивать по-разному: [Пример 1](https://www.statlect.com/fundamentals-of-statistics/generalized-least-squares), [Пример 2](https://uh.edu/~bsorense/GLS_May_2017.pdf), [Пример 3](http://www3.grips.ac.jp/~yamanota/Lecture_Note_10_GLS_WLS_FGLS.pdf), [Пример 4](https://www.mathworks.com/help/econ/fgls.html#buicqm4-12). Можно использовать итерационный алгоритм, описанный, например, в [Википедии](https://en.wikipedia.org/wiki/Generalized_least_squares).\n",
    "\n",
    "Метод полезен, когда у нас есть некоторое представление о том, как устроена ковариационная матрица случайных ошибок."
   ]
  },
  {
   "cell_type": "code",
   "execution_count": 64,
   "metadata": {},
   "outputs": [],
   "source": [
    "from statsmodels.regression.linear_model import OLS, GLS"
   ]
  },
  {
   "cell_type": "code",
   "execution_count": 80,
   "metadata": {},
   "outputs": [],
   "source": [
    "# Например, как описано в примере 3\n",
    "log_resid = np.log(model.resid ** 2)\n",
    "hat_omega_model = OLS(log_resid, model.model.exog).fit()\n",
    "weights = 1 / np.exp(model.model.exog @ hat_omega_model.params)"
   ]
  },
  {
   "cell_type": "code",
   "execution_count": 81,
   "metadata": {},
   "outputs": [
    {
     "data": {
      "text/plain": [
       "array([71.38203285, 90.7696654 , 99.93012519, ..., 59.07510695,\n",
       "       49.6225778 , 47.19220893])"
      ]
     },
     "execution_count": 81,
     "metadata": {},
     "output_type": "execute_result"
    }
   ],
   "source": [
    "weights"
   ]
  },
  {
   "cell_type": "code",
   "execution_count": 82,
   "metadata": {},
   "outputs": [
    {
     "data": {
      "text/html": [
       "<table class=\"simpletable\">\n",
       "<caption>GLS Regression Results</caption>\n",
       "<tr>\n",
       "  <th>Dep. Variable:</th>            <td>y</td>        <th>  R-squared:         </th> <td>   0.918</td> \n",
       "</tr>\n",
       "<tr>\n",
       "  <th>Model:</th>                   <td>GLS</td>       <th>  Adj. R-squared:    </th> <td>   0.918</td> \n",
       "</tr>\n",
       "<tr>\n",
       "  <th>Method:</th>             <td>Least Squares</td>  <th>  F-statistic:       </th> <td>1.212e+05</td>\n",
       "</tr>\n",
       "<tr>\n",
       "  <th>Date:</th>             <td>Mon, 09 Nov 2020</td> <th>  Prob (F-statistic):</th>  <td>  0.00</td>  \n",
       "</tr>\n",
       "<tr>\n",
       "  <th>Time:</th>                 <td>22:43:31</td>     <th>  Log-Likelihood:    </th> <td> -11563.</td> \n",
       "</tr>\n",
       "<tr>\n",
       "  <th>No. Observations:</th>      <td> 53940</td>      <th>  AIC:               </th> <td>2.314e+04</td>\n",
       "</tr>\n",
       "<tr>\n",
       "  <th>Df Residuals:</th>          <td> 53934</td>      <th>  BIC:               </th> <td>2.319e+04</td>\n",
       "</tr>\n",
       "<tr>\n",
       "  <th>Df Model:</th>              <td>     5</td>      <th>                     </th>     <td> </td>    \n",
       "</tr>\n",
       "<tr>\n",
       "  <th>Covariance Type:</th>      <td>nonrobust</td>    <th>                     </th>     <td> </td>    \n",
       "</tr>\n",
       "</table>\n",
       "<table class=\"simpletable\">\n",
       "<tr>\n",
       "    <td></td>       <th>coef</th>     <th>std err</th>      <th>t</th>      <th>P>|t|</th>  <th>[0.025</th>    <th>0.975]</th>  \n",
       "</tr>\n",
       "<tr>\n",
       "  <th>const</th> <td>    2.9610</td> <td>    0.075</td> <td>   39.314</td> <td> 0.000</td> <td>    2.813</td> <td>    3.109</td>\n",
       "</tr>\n",
       "<tr>\n",
       "  <th>x1</th>    <td>    0.0104</td> <td>    0.001</td> <td>   11.192</td> <td> 0.000</td> <td>    0.009</td> <td>    0.012</td>\n",
       "</tr>\n",
       "<tr>\n",
       "  <th>x2</th>    <td>   -0.0118</td> <td>    0.001</td> <td>  -18.941</td> <td> 0.000</td> <td>   -0.013</td> <td>   -0.011</td>\n",
       "</tr>\n",
       "<tr>\n",
       "  <th>x3</th>    <td>    0.8470</td> <td>    0.002</td> <td>  475.091</td> <td> 0.000</td> <td>    0.844</td> <td>    0.851</td>\n",
       "</tr>\n",
       "<tr>\n",
       "  <th>x4</th>    <td>   -0.0076</td> <td>    0.000</td> <td>  -25.813</td> <td> 0.000</td> <td>   -0.008</td> <td>   -0.007</td>\n",
       "</tr>\n",
       "<tr>\n",
       "  <th>x5</th>    <td>    0.0142</td> <td>    0.002</td> <td>    5.840</td> <td> 0.000</td> <td>    0.009</td> <td>    0.019</td>\n",
       "</tr>\n",
       "</table>\n",
       "<table class=\"simpletable\">\n",
       "<tr>\n",
       "  <th>Omnibus:</th>       <td>7143.461</td> <th>  Durbin-Watson:     </th> <td>   1.381</td> \n",
       "</tr>\n",
       "<tr>\n",
       "  <th>Prob(Omnibus):</th>  <td> 0.000</td>  <th>  Jarque-Bera (JB):  </th> <td>93702.657</td>\n",
       "</tr>\n",
       "<tr>\n",
       "  <th>Skew:</th>           <td>-0.047</td>  <th>  Prob(JB):          </th> <td>    0.00</td> \n",
       "</tr>\n",
       "<tr>\n",
       "  <th>Kurtosis:</th>       <td> 9.456</td>  <th>  Cond. No.          </th> <td>5.05e+03</td> \n",
       "</tr>\n",
       "</table><br/><br/>Warnings:<br/>[1] Standard Errors assume that the covariance matrix of the errors is correctly specified.<br/>[2] The condition number is large, 5.05e+03. This might indicate that there are<br/>strong multicollinearity or other numerical problems."
      ],
      "text/plain": [
       "<class 'statsmodels.iolib.summary.Summary'>\n",
       "\"\"\"\n",
       "                            GLS Regression Results                            \n",
       "==============================================================================\n",
       "Dep. Variable:                      y   R-squared:                       0.918\n",
       "Model:                            GLS   Adj. R-squared:                  0.918\n",
       "Method:                 Least Squares   F-statistic:                 1.212e+05\n",
       "Date:                Mon, 09 Nov 2020   Prob (F-statistic):               0.00\n",
       "Time:                        22:43:31   Log-Likelihood:                -11563.\n",
       "No. Observations:               53940   AIC:                         2.314e+04\n",
       "Df Residuals:                   53934   BIC:                         2.319e+04\n",
       "Df Model:                           5                                         \n",
       "Covariance Type:            nonrobust                                         \n",
       "==============================================================================\n",
       "                 coef    std err          t      P>|t|      [0.025      0.975]\n",
       "------------------------------------------------------------------------------\n",
       "const          2.9610      0.075     39.314      0.000       2.813       3.109\n",
       "x1             0.0104      0.001     11.192      0.000       0.009       0.012\n",
       "x2            -0.0118      0.001    -18.941      0.000      -0.013      -0.011\n",
       "x3             0.8470      0.002    475.091      0.000       0.844       0.851\n",
       "x4            -0.0076      0.000    -25.813      0.000      -0.008      -0.007\n",
       "x5             0.0142      0.002      5.840      0.000       0.009       0.019\n",
       "==============================================================================\n",
       "Omnibus:                     7143.461   Durbin-Watson:                   1.381\n",
       "Prob(Omnibus):                  0.000   Jarque-Bera (JB):            93702.657\n",
       "Skew:                          -0.047   Prob(JB):                         0.00\n",
       "Kurtosis:                       9.456   Cond. No.                     5.05e+03\n",
       "==============================================================================\n",
       "\n",
       "Warnings:\n",
       "[1] Standard Errors assume that the covariance matrix of the errors is correctly specified.\n",
       "[2] The condition number is large, 5.05e+03. This might indicate that there are\n",
       "strong multicollinearity or other numerical problems.\n",
       "\"\"\""
      ]
     },
     "execution_count": 82,
     "metadata": {},
     "output_type": "execute_result"
    }
   ],
   "source": [
    "model_gls = GLS(model.model.endog, model.model.exog, sigma = weights).fit()\n",
    "model_gls.summary()"
   ]
  },
  {
   "cell_type": "markdown",
   "metadata": {},
   "source": [
    "**III.** Использовать бутстрэп."
   ]
  },
  {
   "cell_type": "markdown",
   "metadata": {},
   "source": [
    "**Pairs Bootstrap.**"
   ]
  },
  {
   "cell_type": "markdown",
   "metadata": {},
   "source": [
    "Разные реализации, например, [так](https://www.researchgate.net/publication/254447243_Thirty_Years_of_Heteroskedasticity-Robust_Inference).\n",
    "\n",
    "$$\n",
    "\\hat{\\mathrm{Var}}(\\hat{\\beta})^* = \\dfrac{1}{B-1}\\sum_{j = 1}^B(\\hat{\\beta}_j^* - \\bar{\\beta}_j^*)(\\hat{\\beta}_j^* - \\bar{\\beta}_j^*)^T.\n",
    "$$"
   ]
  },
  {
   "cell_type": "code",
   "execution_count": 121,
   "metadata": {},
   "outputs": [],
   "source": [
    "n_reps = 100\n",
    "\n",
    "cov_matr = np.zeros((6, 6))\n",
    "\n",
    "for i in range(n_reps):\n",
    "    # 1. Строим бутстрэп-выборку\n",
    "    random_inds = np.random.randint(0, len(model.model.endog), size = len(model.model.endog))\n",
    "    y_b = model.model.endog[random_inds]\n",
    "    X_b = model.model.exog[random_inds, :]\n",
    "    \n",
    "    # 2. Оцениваем модель и обновляем ковариационную матрицу\n",
    "    model_b = OLS(y_b, X_b).fit()\n",
    "    coefs = np.array(model_b.params).reshape(-1, 1)\n",
    "    cov_matr = cov_matr + (coefs - np.mean(coefs)) @ (coefs - np.mean(coefs)).T"
   ]
  },
  {
   "cell_type": "code",
   "execution_count": 129,
   "metadata": {},
   "outputs": [
    {
     "data": {
      "text/html": [
       "<div>\n",
       "<style scoped>\n",
       "    .dataframe tbody tr th:only-of-type {\n",
       "        vertical-align: middle;\n",
       "    }\n",
       "\n",
       "    .dataframe tbody tr th {\n",
       "        vertical-align: top;\n",
       "    }\n",
       "\n",
       "    .dataframe thead th {\n",
       "        text-align: right;\n",
       "    }\n",
       "</style>\n",
       "<table border=\"1\" class=\"dataframe\">\n",
       "  <thead>\n",
       "    <tr style=\"text-align: right;\">\n",
       "      <th></th>\n",
       "      <th>Intercept</th>\n",
       "      <th>depth</th>\n",
       "      <th>table</th>\n",
       "      <th>x</th>\n",
       "      <th>y</th>\n",
       "      <th>z</th>\n",
       "    </tr>\n",
       "  </thead>\n",
       "  <tbody>\n",
       "    <tr>\n",
       "      <th>Intercept</th>\n",
       "      <td>5.512551</td>\n",
       "      <td>-1.515913</td>\n",
       "      <td>-1.555526</td>\n",
       "      <td>0.071786</td>\n",
       "      <td>-1.256393</td>\n",
       "      <td>-1.256506</td>\n",
       "    </tr>\n",
       "    <tr>\n",
       "      <th>depth</th>\n",
       "      <td>-1.515913</td>\n",
       "      <td>0.417004</td>\n",
       "      <td>0.427960</td>\n",
       "      <td>-0.018918</td>\n",
       "      <td>0.343659</td>\n",
       "      <td>0.346208</td>\n",
       "    </tr>\n",
       "    <tr>\n",
       "      <th>table</th>\n",
       "      <td>-1.555526</td>\n",
       "      <td>0.427960</td>\n",
       "      <td>0.439240</td>\n",
       "      <td>-0.019582</td>\n",
       "      <td>0.352194</td>\n",
       "      <td>0.355714</td>\n",
       "    </tr>\n",
       "    <tr>\n",
       "      <th>x</th>\n",
       "      <td>0.071786</td>\n",
       "      <td>-0.018918</td>\n",
       "      <td>-0.019582</td>\n",
       "      <td>0.036863</td>\n",
       "      <td>-0.050703</td>\n",
       "      <td>-0.019446</td>\n",
       "    </tr>\n",
       "    <tr>\n",
       "      <th>y</th>\n",
       "      <td>-1.256393</td>\n",
       "      <td>0.343659</td>\n",
       "      <td>0.352194</td>\n",
       "      <td>-0.050703</td>\n",
       "      <td>0.329432</td>\n",
       "      <td>0.281811</td>\n",
       "    </tr>\n",
       "    <tr>\n",
       "      <th>z</th>\n",
       "      <td>-1.256506</td>\n",
       "      <td>0.346208</td>\n",
       "      <td>0.355714</td>\n",
       "      <td>-0.019446</td>\n",
       "      <td>0.281811</td>\n",
       "      <td>0.292218</td>\n",
       "    </tr>\n",
       "  </tbody>\n",
       "</table>\n",
       "</div>"
      ],
      "text/plain": [
       "           Intercept     depth     table         x         y         z\n",
       "Intercept   5.512551 -1.515913 -1.555526  0.071786 -1.256393 -1.256506\n",
       "depth      -1.515913  0.417004  0.427960 -0.018918  0.343659  0.346208\n",
       "table      -1.555526  0.427960  0.439240 -0.019582  0.352194  0.355714\n",
       "x           0.071786 -0.018918 -0.019582  0.036863 -0.050703 -0.019446\n",
       "y          -1.256393  0.343659  0.352194 -0.050703  0.329432  0.281811\n",
       "z          -1.256506  0.346208  0.355714 -0.019446  0.281811  0.292218"
      ]
     },
     "execution_count": 129,
     "metadata": {},
     "output_type": "execute_result"
    }
   ],
   "source": [
    "pd.DataFrame(cov_matr / (n_reps - 1), columns = model.model.exog_names, index = model.model.exog_names)"
   ]
  },
  {
   "cell_type": "markdown",
   "metadata": {},
   "source": [
    "**Wild Bootstrap.**"
   ]
  },
  {
   "cell_type": "markdown",
   "metadata": {},
   "source": [
    "(Этот метод нужно будет реализовать в домашнем задании самостоятельно)."
   ]
  },
  {
   "cell_type": "code",
   "execution_count": null,
   "metadata": {},
   "outputs": [],
   "source": []
  }
 ],
 "metadata": {
  "kernelspec": {
   "display_name": "Python 3",
   "language": "python",
   "name": "python3"
  },
  "language_info": {
   "codemirror_mode": {
    "name": "ipython",
    "version": 3
   },
   "file_extension": ".py",
   "mimetype": "text/x-python",
   "name": "python",
   "nbconvert_exporter": "python",
   "pygments_lexer": "ipython3",
   "version": "3.8.3"
  }
 },
 "nbformat": 4,
 "nbformat_minor": 4
}
