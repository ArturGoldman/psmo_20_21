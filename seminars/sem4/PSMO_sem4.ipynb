{
 "cells": [
  {
   "cell_type": "markdown",
   "metadata": {},
   "source": [
    "## Прикладная статистика в машинном обучении"
   ]
  },
  {
   "cell_type": "markdown",
   "metadata": {},
   "source": [
    "### Семинар 4: EM-алгоритм"
   ]
  },
  {
   "cell_type": "markdown",
   "metadata": {},
   "source": [
    "#### Постановка задачи."
   ]
  },
  {
   "cell_type": "markdown",
   "metadata": {},
   "source": [
    "Сначала вспомним постановку задачи. \n",
    "Как и в предыдущих задачах, мы хотим максимизировать логарифм функции правдоподобия $\\ell(x | \\theta)$, чтобы найти оценку вектора параметров $\\theta$. \n",
    "Однако бывает так, что эта функция имеет такой вид, что максимизировать сложно (например, если под логарифмом оказывается сумма). \n",
    "Идея EM-алгоритма состоит в том, чтобы ввести латентные переменные $z$ и использовать совместное распределение $p(X, Z)$ для нахождения $\\hat{\\theta}$."
   ]
  },
  {
   "cell_type": "markdown",
   "metadata": {},
   "source": [
    "#### EM-алгоритм в общем виде."
   ]
  },
  {
   "cell_type": "markdown",
   "metadata": {},
   "source": [
    ">  **Инициализация:** задать начальные условия на $\\theta_{old}$.\n",
    "\n",
    "> **E.1-шаг:** найти условное распределение латентных переменных $p(Z | X, \\theta_{old})$.\n",
    "\n",
    "> **E.2-шаг:** построить функцию $Q(\\theta, \\theta_{old}) = E_{Z | X, \\theta}(\\ell(x, z | \\theta) | x, \\theta_{old})$.\n",
    "\n",
    "> **M-шаг:** максимизировать $Q$ по $\\theta$.\n",
    "\n",
    "> Далее повторять E- и M-шаги до сходимости."
   ]
  },
  {
   "cell_type": "markdown",
   "metadata": {},
   "source": [
    "#### Обоснование EM-алгоритма."
   ]
  },
  {
   "cell_type": "markdown",
   "metadata": {},
   "source": [
    "Для обоснования ЕМ-алгоритма и понимания обозначений рассмотрим пример: \n",
    "\n",
    "Пусть $X_1, X_2, \\ldots, X_n$ $\\sim f(x, | \\theta)$, где $f$ -- какая-то функция плотности, $\\theta$ -- вектор неизвестных параметров этой плотности.\n",
    "\n",
    "Пусть латентные переменные принимают всего два значения: $Z \\in \\{0, 1\\}$ -- с вероятностями $P(Z = 0) = p_1$, $P(Z = 1) = 1-p_1$.\n",
    "\n",
    "Тогда $\\ell(x | \\theta) = \\sum_i \\ln f(x_i | \\theta)$.\n",
    "\n",
    "Заметим, что \n",
    "\n",
    "$$\n",
    "\\ell(x | \\theta) = \\sum_i \\ln f(x_i | \\theta) = \\sum_i \\sum_j P(Z = j)\\ln f(x_i | \\theta) = \n",
    "\\sum_i \\sum_j P(Z = j)\\ln \\dfrac{f(x_i, Z = j | \\theta)}{P(Z = j | x_i, \\theta)} = \n",
    "$$"
   ]
  },
  {
   "cell_type": "markdown",
   "metadata": {},
   "source": [
    "(чтобы понять последний переход, распишите знаменатель выражения под логарифмом по формуле условной вероятности)"
   ]
  },
  {
   "cell_type": "markdown",
   "metadata": {},
   "source": [
    "$$\n",
    "= \\sum_i \\sum_j P(Z = j)\\ln \\dfrac{f(x_i, Z = j | \\theta) P(Z = j)}{P(Z = j | x_i, \\theta)P(Z = j)} = \n",
    "$$\n",
    "\n",
    "$$\n",
    "= \\sum_i \\sum_j P(Z = j) \\ln \\dfrac{f(x_i, Z = j | \\theta)}{P(Z = j)} + \\sum_i \\sum_j P(Z = j) \\ln \\dfrac{P(Z = j)}{P(Z = j | x_i, \\theta)} =\n",
    "$$\n",
    "\n",
    "$$\n",
    "M(P(Z = j), \\theta) + D_{KL}[P(Z = j) || P(Z = j | x_i, \\theta)].\n",
    "$$"
   ]
  },
  {
   "cell_type": "markdown",
   "metadata": {},
   "source": [
    "Так как $D_{KL} \\ge 0$, то $M(P(Z = j), \\theta)$ является нижней оценкой на логарифм правдоподобия. Идея EM-алгоритма состоит в том, чтобы поочерёдно максимизировать $M(P(Z = j), \\theta)$ по $P(Z = j)$ (на E-шаге) и по $\\theta$ (на M-шаге)."
   ]
  },
  {
   "cell_type": "markdown",
   "metadata": {},
   "source": [
    "**E-шаг.**\n",
    "\n",
    "Максимизируем $M(P(Z = j), \\theta)$ по $P(Z = j)$.\n",
    "\n",
    "Так как $\\ell(x | \\theta)$ не зависит от $P(Z = j)$, то максимум $M(P(Z = j), \\theta)$ по $P(Z = j)$ будет достигнут, когда $D_{KL}$ минимальна. \n",
    "\n",
    "Минимальная $D_{KL}(A || B)$ равна 0, и это достигается, когда $A || B$. Из этого делаем вывод, что на E-шаге мы устанавливаем\n",
    "\n",
    "$$\n",
    "P(Z = j) := P(Z = j | x_i, \\theta^{old}).\n",
    "$$"
   ]
  },
  {
   "cell_type": "markdown",
   "metadata": {},
   "source": [
    "**M-шаг.**\n",
    "\n",
    "Максимизируем $M(P(Z = j), \\theta)$ по $\\theta$. Распишем $M$ ещё раз:\n",
    "\n",
    "$$\n",
    "M = \\sum_i \\sum_j P(Z = j) \\ln \\dfrac{f(x_i, Z = j | \\theta)}{P(Z = j)}\n",
    "$$\n"
   ]
  },
  {
   "cell_type": "markdown",
   "metadata": {},
   "source": [
    "Заметим, что знаменатель подлогарифмического выражения не зависит от $\\theta$. Выбросим его и заменим $P(Z = j)$ на результат, полученный нами на E-шаге:"
   ]
  },
  {
   "cell_type": "markdown",
   "metadata": {},
   "source": [
    "$$\n",
    "M = \\sum_i \\sum_j P(Z = j | x_i, \\theta^{old}) \\ln f(x_i, Z = j | \\theta) = \\sum_i E_{Z | x_i, \\theta_{old}}(\\ln f(x_i, Z = j | \\theta)) := Q(\\theta, \\theta^{old}).\n",
    "$$"
   ]
  },
  {
   "cell_type": "markdown",
   "metadata": {},
   "source": [
    "Далее мы максимизируем $Q$ по по $\\theta$, обновляем $\\theta$ на аргмаксимум $Q$, и возвращаемся к E-шагу."
   ]
  },
  {
   "cell_type": "markdown",
   "metadata": {},
   "source": [
    "#### Обозначения."
   ]
  },
  {
   "cell_type": "markdown",
   "metadata": {},
   "source": [
    "Теперь соотнесём обозначения из общей постановки EM-алгоритма с теми, что мы получили в примере."
   ]
  },
  {
   "cell_type": "markdown",
   "metadata": {},
   "source": [
    "$p(Z)$ -- это безусловное распределение $Z$. По сути, это массив размера $1\\times k$, где $k$ -- число значений $Z$.\n",
    "\n",
    "$p(Z | X, \\theta_{old})$ -- это условное распределение $Z$ при условии выборки. По сути, это массив размера $N\\times k$, где $N$ -- размер выборки, $k$ -- число значений $Z$. Каждая строчка есть вектор вероятностей того, что на данном наблюдении $Z$ равно соответсвующему значению.\n",
    "\n",
    "$E_{Z | X, \\theta}(\\cdot)$ -- это сумма матожиданий $\\sum_i E_{Z | x_i, \\theta}$ по всем наблюдениям выборки.\n",
    "\n",
    "$p(\\cdot)$ -- распределение того, что стоит в скобках. Эта функция может оказаться функцией вероятности или функцией плотности в зависимости от контекста."
   ]
  },
  {
   "cell_type": "markdown",
   "metadata": {},
   "source": [
    "---"
   ]
  },
  {
   "cell_type": "markdown",
   "metadata": {},
   "source": [
    "#### Пример с лекции: задача о кластеризации (разделение смеси распределений)."
   ]
  },
  {
   "cell_type": "code",
   "execution_count": 1,
   "metadata": {},
   "outputs": [],
   "source": [
    "import numpy as np\n",
    "import matplotlib.pyplot as plt\n",
    "import seaborn as sns\n",
    "sns.set()\n",
    "np.random.seed(123)"
   ]
  },
  {
   "cell_type": "markdown",
   "metadata": {},
   "source": [
    "Пример:"
   ]
  },
  {
   "cell_type": "code",
   "execution_count": 2,
   "metadata": {},
   "outputs": [
    {
     "data": {
      "text/plain": [
       "(array([ 1.,  1.,  5.,  8., 19., 30., 22.,  5.,  8.,  1.]),\n",
       " array([0.76894499, 1.35188089, 1.93481678, 2.51775267, 3.10068857,\n",
       "        3.68362446, 4.26656035, 4.84949625, 5.43243214, 6.01536803,\n",
       "        6.59830393]),\n",
       " <a list of 10 Patch objects>)"
      ]
     },
     "execution_count": 2,
     "metadata": {},
     "output_type": "execute_result"
    },
    {
     "data": {
      "image/png": "[encoded data removed]",
      "text/plain": [
       "<Figure size 432x288 with 1 Axes>"
      ]
     },
     "metadata": {},
     "output_type": "display_data"
    }
   ],
   "source": [
    "y1 = np.random.normal(0, 1, 100)\n",
    "y2 = np.random.normal(4, 1, 100)\n",
    "plt.hist(y1, alpha = 0.7)\n",
    "plt.hist(y2, alpha = 0.7)"
   ]
  },
  {
   "cell_type": "code",
   "execution_count": 3,
   "metadata": {},
   "outputs": [],
   "source": [
    "x = np.array([5, 6, 2, 1, 1, 3, 7, 10])"
   ]
  },
  {
   "cell_type": "markdown",
   "metadata": {},
   "source": [
    "**Постановка задачи.** \n",
    "\n",
    "Пусть мы точно знаем, что наблюдения принадлежат одному из двух кластеров. Пусть в первом кластере наблюдения берутся из нормального $\\mathcal{N}(\\mu_1, \\sigma_1^2)$ распределения, а во втором -- из нормального $\\mathcal{N}(\\mu_2, \\sigma_2^2)$ распределения. Предположим, что все наблюдения независимы, и вероятность того, что наблюдение относится к первому кластеру, равна $p_1$."
   ]
  },
  {
   "cell_type": "code",
   "execution_count": 4,
   "metadata": {},
   "outputs": [
    {
     "data": {
      "text/plain": [
       "array([ 1. ,  4.5, 10. ,  4.5,  0.5])"
      ]
     },
     "execution_count": 4,
     "metadata": {},
     "output_type": "execute_result"
    }
   ],
   "source": [
    "# Определите вектор параметров для данной задачи и задайте начальные условия\n",
    "# theta = (mu_1, sigma2_1, mu2, sigma2_2, p_1)\n",
    "# (воспользовались эвристикой)\n",
    "theta = np.array([np.min(x), (np.max(x) - np.min(x)) / 2, np.max(x), (np.max(x) - np.min(x)) / 2, 1/2])\n",
    "theta"
   ]
  },
  {
   "cell_type": "markdown",
   "metadata": {},
   "source": [
    "**Определение латентных переменных.**"
   ]
  },
  {
   "cell_type": "markdown",
   "metadata": {},
   "source": [
    "$z \\in \\{1, 2\\}$ -- номер кластера.\n",
    "\n",
    "Вспомним, что у нас есть обозначение $p_1 = P(z = 1)$ -- вероятность отнести наблюдение к первому кластеру."
   ]
  },
  {
   "cell_type": "markdown",
   "metadata": {},
   "source": [
    "**E.1-шаг.**"
   ]
  },
  {
   "cell_type": "markdown",
   "metadata": {},
   "source": [
    "Найти условное распределение латентных переменных $p(Z | X, \\theta_{old})$. Для данной задачи это означает, что мы должны получить массив $8\\times2$ (8 наблюдений, 2 значения $z$). Нам достаточно найти только один столбец массива -- этот столбец будет размера $8\\times1$ (то есть вероятность того, что $z = 1$) -- потому что второй столбец определяется однозначно как ($1 - $ первый столбец)."
   ]
  },
  {
   "cell_type": "markdown",
   "metadata": {},
   "source": [
    "По формуле условной вероятности:\n",
    "$$\n",
    "p(z | x, \\theta_{old}) = \\dfrac{p(z, x | \\theta_{old})}{p(x | \\theta_{old})}\n",
    "$$"
   ]
  },
  {
   "cell_type": "markdown",
   "metadata": {},
   "source": [
    "и\n",
    "$$\n",
    "p(x | z, \\theta_{old}) = \\dfrac{p(x, z | \\theta_{old})}{p(z)}\n",
    "$$"
   ]
  },
  {
   "cell_type": "markdown",
   "metadata": {},
   "source": [
    "Тогда\n",
    "$$\n",
    "P(z_i = 1 | x_i, \\theta_{old}) = \\dfrac{p(z_i = 1, x_i | \\theta_{old})}{f(x_i | \\theta_{old})}\n",
    "$$"
   ]
  },
  {
   "cell_type": "markdown",
   "metadata": {},
   "source": [
    "$$\n",
    "= \\dfrac{f(x_i | z_i = 1, \\theta_{old})p_1}{p_1f(x_i | z_i = 1, \\theta_{old}) + (1-p_1)f(x_i | z_i = 2, \\theta_{old})}\n",
    "$$"
   ]
  },
  {
   "cell_type": "code",
   "execution_count": 5,
   "metadata": {},
   "outputs": [],
   "source": [
    "# Задайте плотность x\n",
    "def f(x, mu, sigma2):\n",
    "    return 1 / np.sqrt(2 * np.pi * sigma2) * np.exp(-1/2 * 1/sigma2 * (x - mu)**2)"
   ]
  },
  {
   "cell_type": "code",
   "execution_count": 6,
   "metadata": {},
   "outputs": [],
   "source": [
    "# Рассчитайте распределение латентных переменных на наших данных\n",
    "p_z_1 = f(x, mu = theta[0], sigma2 = theta[1]) * theta[4] / (theta[4] * f(x, mu = theta[0], sigma2 = theta[1]) + \n",
    "                                                       (1-theta[4]) * f(x, mu = theta[2], sigma2 = theta[3]))"
   ]
  },
  {
   "cell_type": "code",
   "execution_count": 7,
   "metadata": {},
   "outputs": [
    {
     "data": {
      "text/plain": [
       "array([7.31058579e-01, 2.68941421e-01, 9.99088949e-01, 9.99876605e-01,\n",
       "       9.99876605e-01, 9.93307149e-01, 4.74258732e-02, 1.23394576e-04])"
      ]
     },
     "execution_count": 7,
     "metadata": {},
     "output_type": "execute_result"
    }
   ],
   "source": [
    "p_z_1"
   ]
  },
  {
   "cell_type": "markdown",
   "metadata": {},
   "source": [
    "**E.2-шаг.**"
   ]
  },
  {
   "cell_type": "markdown",
   "metadata": {},
   "source": [
    "Постройте функцию $Q(\\theta, \\theta_{old}) = E_{Z | X, \\theta}(\\ell(x, z | \\theta) | x, \\theta_{old})$."
   ]
  },
  {
   "cell_type": "markdown",
   "metadata": {},
   "source": [
    "По формуле условной вероятности:\n",
    "$$\n",
    "p(x, z | \\theta) = p(x | \\theta, z) \\times p(z)\n",
    "$$"
   ]
  },
  {
   "cell_type": "markdown",
   "metadata": {},
   "source": [
    "$$\n",
    "Q(\\theta, \\theta_{old}) = \\sum_i P(z_i = 1 | x, \\theta_{old})[\\ln f(x_i | \\theta) + \\ln p_1] + (1 - P(z_i = 1 | x, \\theta_{old})[\\ln f(x_i | \\theta) + \\ln(1-p_1)].\n",
    "$$"
   ]
  },
  {
   "cell_type": "markdown",
   "metadata": {},
   "source": [
    "**M-шаг.**"
   ]
  },
  {
   "cell_type": "markdown",
   "metadata": {},
   "source": [
    "Выведите формулы для максимизации $Q$."
   ]
  },
  {
   "cell_type": "markdown",
   "metadata": {},
   "source": [
    "$$\n",
    "Q'_{\\mu_1} = \\sum_i P(z_i = 1 | x, \\theta_{old}) \\dfrac{(x_i - \\mu_1)}{\\sigma_1^2}\n",
    "$$"
   ]
  },
  {
   "cell_type": "markdown",
   "metadata": {},
   "source": [
    "$$\n",
    "\\mu_1^{new} = \\dfrac{\\sum_i P(z_i = 1 | x, \\theta_{old}) x_i}{\\sum_i P(z_i = 1 | x, \\theta_{old})}\n",
    "$$"
   ]
  },
  {
   "cell_type": "markdown",
   "metadata": {},
   "source": [
    "Аналогично,"
   ]
  },
  {
   "cell_type": "markdown",
   "metadata": {},
   "source": [
    "$$\n",
    "\\mu_2^{new} = \\dfrac{\\sum_i (1 - P(z_i = 1 | x, \\theta_{old})) x_i}{\\sum_i (1 - P(z_i = 1 | x, \\theta_{old}))}\n",
    "$$"
   ]
  },
  {
   "cell_type": "markdown",
   "metadata": {},
   "source": [
    "Далее:"
   ]
  },
  {
   "cell_type": "markdown",
   "metadata": {},
   "source": [
    "$$\n",
    "Q'_{\\sigma_1^2} = \\sum_i P(z_i = 1 | x, \\theta_{old}) (-\\dfrac{1}{2\\sigma^2_1} + \\dfrac{1}{2}\\dfrac{(x_i - \\mu)^2}{\\sigma_1^4})\n",
    "$$"
   ]
  },
  {
   "cell_type": "markdown",
   "metadata": {},
   "source": [
    "$$\n",
    "\\sigma_1^{2, new} = \\dfrac{\\sum_i (x_i - \\mu)^2 P(z_i = 1 | x, \\theta_{old})}{\\sum_i P(z_i = 1 | x, \\theta_{old})}\n",
    "$$"
   ]
  },
  {
   "cell_type": "markdown",
   "metadata": {},
   "source": [
    "Аналогично для $\\sigma_2^{2, new}$."
   ]
  },
  {
   "cell_type": "markdown",
   "metadata": {},
   "source": [
    "Далее:"
   ]
  },
  {
   "cell_type": "markdown",
   "metadata": {},
   "source": [
    "$$\n",
    "Q'_{p_1} = \\sum_i P(z_i = 1 | x, \\theta_{old}) \\dfrac{1}{p_1} - (1 - P(z_i = 1 | x, \\theta_{old})) \\dfrac{1}{1 - p_1}\n",
    "$$"
   ]
  },
  {
   "cell_type": "markdown",
   "metadata": {},
   "source": [
    "$$\n",
    "p_1^{new} = \\dfrac{\\sum_i P(z_i = 1 | x, \\theta_{old})}{n}\n",
    "$$"
   ]
  },
  {
   "cell_type": "code",
   "execution_count": 8,
   "metadata": {},
   "outputs": [],
   "source": [
    "# Реализуйте формулы для одного M-шага\n",
    "mu_1 = np.sum(p_z_1 * x) / np.sum(p_z_1)"
   ]
  },
  {
   "cell_type": "code",
   "execution_count": 9,
   "metadata": {},
   "outputs": [],
   "source": [
    "mu_2 = np.sum((1-p_z_1) * x) / np.sum(1-p_z_1)"
   ]
  },
  {
   "cell_type": "code",
   "execution_count": 10,
   "metadata": {},
   "outputs": [],
   "source": [
    "sigma2_1 = np.sum((x - mu_1) ** 2 * p_z_1)/ np.sum(p_z_1)"
   ]
  },
  {
   "cell_type": "code",
   "execution_count": 11,
   "metadata": {},
   "outputs": [],
   "source": [
    "sigma2_2 = np.sum((x - mu_2) ** 2 * (1 - p_z_1))/ np.sum(1 - p_z_1)"
   ]
  },
  {
   "cell_type": "code",
   "execution_count": 12,
   "metadata": {},
   "outputs": [],
   "source": [
    "p1 = np.sum(p_z_1) / len(x)"
   ]
  },
  {
   "cell_type": "code",
   "execution_count": 13,
   "metadata": {},
   "outputs": [],
   "source": [
    "theta_new = np.array([mu_1, sigma2_1, mu_2, sigma2_2, p1])"
   ]
  },
  {
   "cell_type": "code",
   "execution_count": 14,
   "metadata": {},
   "outputs": [
    {
     "data": {
      "text/plain": [
       "array([ 1. ,  4.5, 10. ,  4.5,  0.5])"
      ]
     },
     "execution_count": 14,
     "metadata": {},
     "output_type": "execute_result"
    }
   ],
   "source": [
    "theta"
   ]
  },
  {
   "cell_type": "code",
   "execution_count": 15,
   "metadata": {},
   "outputs": [
    {
     "data": {
      "text/plain": [
       "array([2.49618283, 2.74390095, 7.57355004, 3.36811658, 0.62996232])"
      ]
     },
     "execution_count": 15,
     "metadata": {},
     "output_type": "execute_result"
    }
   ],
   "source": [
    "theta_new"
   ]
  },
  {
   "cell_type": "markdown",
   "metadata": {},
   "source": [
    "**Сбор EM-алгоритма в функцию.**"
   ]
  },
  {
   "cell_type": "markdown",
   "metadata": {},
   "source": [
    "На каждом шаге будем дополнительно рассчитывать значение $Q$. Для этого определим дополнительные функции:"
   ]
  },
  {
   "cell_type": "code",
   "execution_count": 16,
   "metadata": {},
   "outputs": [],
   "source": [
    "# Логарифм функции плотности x\n",
    "def lnf(x, mu, sigma2):\n",
    "    return -1/2 * np.log(2 * np.pi * sigma2) - 1/2 * (x - mu) ** 2 / sigma2"
   ]
  },
  {
   "cell_type": "code",
   "execution_count": 17,
   "metadata": {},
   "outputs": [],
   "source": [
    "def Q_f(x, theta, p_z_1):\n",
    "    ell1 = lnf(x, theta[0], theta[1]) + np.log(theta[4])\n",
    "    ell2 = lnf(x, theta[2], theta[3]) + np.log(1 - theta[4])\n",
    "    return np.sum(p_z_1 * ell1 + (1 - p_z_1) * ell2)"
   ]
  },
  {
   "cell_type": "markdown",
   "metadata": {},
   "source": [
    "Запустим цикл:"
   ]
  },
  {
   "cell_type": "code",
   "execution_count": 18,
   "metadata": {},
   "outputs": [],
   "source": [
    "def EM(x, theta):\n",
    "    \n",
    "    Q_history = []\n",
    "    \n",
    "    for i in range(100):\n",
    "        \n",
    "        # E-step\n",
    "        p_z_1 = f(x, mu = theta[0], sigma2 = theta[1]) * theta[4] / (theta[4] * f(x, mu = theta[0], sigma2 = theta[1]) + \n",
    "                                                       (1-theta[4]) * f(x, mu = theta[2], sigma2 = theta[3]))\n",
    "        \n",
    "        Q_history.append(Q_f(x, theta, p_z_1))\n",
    "        \n",
    "        if i > 0:\n",
    "            if (Q_history[i] - Q_history[i-1])**2 < 1e-4:\n",
    "                break\n",
    "        \n",
    "        # M-step\n",
    "        mu_1 = np.sum(p_z_1 * x) / np.sum(p_z_1)\n",
    "        mu_2 = np.sum((1-p_z_1) * x) / np.sum(1-p_z_1)\n",
    "        sigma2_1 = np.sum((x - mu_1) ** 2 * p_z_1)/ np.sum(p_z_1)\n",
    "        sigma2_2 = np.sum((x - mu_2) ** 2 * (1-p_z_1))/ np.sum(1 - p_z_1)\n",
    "        p1 = np.sum(p_z_1) / len(x)\n",
    "        theta_new = np.array([mu_1, sigma2_1, mu_2, sigma2_2, p1])\n",
    "        \n",
    "        theta = theta_new\n",
    "    \n",
    "    return (theta, Q_history)"
   ]
  },
  {
   "cell_type": "code",
   "execution_count": 19,
   "metadata": {},
   "outputs": [],
   "source": [
    "theta, Q = EM(x, theta)"
   ]
  },
  {
   "cell_type": "code",
   "execution_count": 20,
   "metadata": {},
   "outputs": [
    {
     "data": {
      "text/plain": [
       "array([1.61403194, 0.58183979, 6.49747214, 5.07879106, 0.43462642])"
      ]
     },
     "execution_count": 20,
     "metadata": {},
     "output_type": "execute_result"
    }
   ],
   "source": [
    "theta"
   ]
  },
  {
   "cell_type": "code",
   "execution_count": 21,
   "metadata": {},
   "outputs": [
    {
     "data": {
      "text/plain": [
       "[<matplotlib.lines.Line2D at 0x7f74405a2a60>]"
      ]
     },
     "execution_count": 21,
     "metadata": {},
     "output_type": "execute_result"
    },
    {
     "data": {
      "image/png": "[encoded data removed]",
      "text/plain": [
       "<Figure size 432x288 with 1 Axes>"
      ]
     },
     "metadata": {},
     "output_type": "display_data"
    }
   ],
   "source": [
    "plt.plot(Q)"
   ]
  },
  {
   "cell_type": "markdown",
   "metadata": {},
   "source": [
    "Об объяснении такой динамики можно прочитать [здесь](https://stats.stackexchange.com/questions/341173/em-algorithm-seems-to-work-but-q-is-not-monotonic-possible-reasons)."
   ]
  },
  {
   "cell_type": "markdown",
   "metadata": {},
   "source": [
    "#### Тестирование EM-алгоритма на случайных данных."
   ]
  },
  {
   "cell_type": "code",
   "execution_count": 22,
   "metadata": {},
   "outputs": [
    {
     "data": {
      "text/plain": [
       "array([-3.56351666,  4.37320049,  5.18288431,  4.37320049,  0.5       ])"
      ]
     },
     "execution_count": 22,
     "metadata": {},
     "output_type": "execute_result"
    }
   ],
   "source": [
    "np.random.seed(1234)\n",
    "x1 = np.random.normal(0, 1, 100)\n",
    "x2 = np.random.normal(4, 0.5, 100)\n",
    "\n",
    "x = np.hstack((x1, x2))\n",
    "np.random.shuffle(x)\n",
    "\n",
    "theta = np.array([np.min(x), (np.max(x) - np.min(x)) / 2, np.max(x), (np.max(x) - np.min(x)) / 2, 1/2])\n",
    "theta"
   ]
  },
  {
   "cell_type": "code",
   "execution_count": 23,
   "metadata": {},
   "outputs": [],
   "source": [
    "theta, Q = EM(x, theta)"
   ]
  },
  {
   "cell_type": "code",
   "execution_count": 24,
   "metadata": {},
   "outputs": [
    {
     "data": {
      "text/plain": [
       "array([0.04256547, 1.01503608, 3.97557634, 0.24095056, 0.50103058])"
      ]
     },
     "execution_count": 24,
     "metadata": {},
     "output_type": "execute_result"
    }
   ],
   "source": [
    "theta"
   ]
  },
  {
   "cell_type": "code",
   "execution_count": 25,
   "metadata": {},
   "outputs": [
    {
     "data": {
      "text/plain": [
       "[<matplotlib.lines.Line2D at 0x7f744055e640>]"
      ]
     },
     "execution_count": 25,
     "metadata": {},
     "output_type": "execute_result"
    },
    {
     "data": {
      "image/png": "[encoded data removed]",
      "text/plain": [
       "<Figure size 432x288 with 1 Axes>"
      ]
     },
     "metadata": {},
     "output_type": "display_data"
    }
   ],
   "source": [
    "plt.plot(Q)"
   ]
  }
 ],
 "metadata": {
  "kernelspec": {
   "display_name": "Python 3",
   "language": "python",
   "name": "python3"
  },
  "language_info": {
   "codemirror_mode": {
    "name": "ipython",
    "version": 3
   },
   "file_extension": ".py",
   "mimetype": "text/x-python",
   "name": "python",
   "nbconvert_exporter": "python",
   "pygments_lexer": "ipython3",
   "version": "3.8.3"
  }
 },
 "nbformat": 4,
 "nbformat_minor": 4
}
