{
 "cells": [
  {
   "cell_type": "markdown",
   "metadata": {},
   "source": [
    "## Прикладная статистика в машинном обучении\n",
    "### Семинар 1: Метод максимального правдоподобия"
   ]
  },
  {
   "cell_type": "code",
   "execution_count": 1,
   "metadata": {},
   "outputs": [],
   "source": [
    "# Всё стандартно\n",
    "import numpy as np\n",
    "import matplotlib.pyplot as plt\n",
    "plt.style.use('ggplot')\n",
    "from scipy import optimize"
   ]
  },
  {
   "cell_type": "markdown",
   "metadata": {},
   "source": [
    "#### Пример с дискретным распределением (задача 1 с семинара)"
   ]
  },
  {
   "cell_type": "code",
   "execution_count": 2,
   "metadata": {},
   "outputs": [],
   "source": [
    "# Запишем правдоподобие и его логарифм\n",
    "def like(a):\n",
    "    return 4 * a**2 * (1-5*a)\n",
    "\n",
    "def loglike(a):\n",
    "    return 2 * np.log(2 * a) + np.log(1 - 5 * a)"
   ]
  },
  {
   "cell_type": "code",
   "execution_count": 11,
   "metadata": {},
   "outputs": [
    {
     "data": {
      "text/plain": [
       "Text(0.5, 1.0, 'Правдоподобие')"
      ]
     },
     "execution_count": 11,
     "metadata": {},
     "output_type": "execute_result"
    },
    {
     "data": {
      "image/png": "[encoded data removed]",
      "text/plain": [
       "<Figure size 432x288 with 1 Axes>"
      ]
     },
     "metadata": {},
     "output_type": "display_data"
    }
   ],
   "source": [
    "# Посмотрим картинку (масштаб неудачный!)\n",
    "x1 = np.arange(-1, 1, 0.01)\n",
    "plt.plot(x1, like(x1), label = 'like')\n",
    "x2 = np.arange(0.001, 0.2, 1e-5)\n",
    "plt.plot(x2, loglike(x2), label = 'loglike')\n",
    "plt.legend()\n",
    "plt.title('Правдоподобие')"
   ]
  },
  {
   "cell_type": "code",
   "execution_count": 13,
   "metadata": {},
   "outputs": [
    {
     "data": {
      "text/plain": [
       "0.13335937500000028"
      ]
     },
     "execution_count": 13,
     "metadata": {},
     "output_type": "execute_result"
    }
   ],
   "source": [
    "# Оптимизируем логарифм правдоподобия.\n",
    "# Для этого создадим дамми-функцию, которая суть логарифм правдоподобия, взятый со знаком минус.\n",
    "def opt_loglike(a):\n",
    "    return -(2 * np.log(4 * a) + np.log(1 - 5 * a))\n",
    "\n",
    "a_hat = optimize.minimize(opt_loglike, 0.05, method = 'Nelder-Mead')['x'][0]\n",
    "a_hat"
   ]
  },
  {
   "cell_type": "code",
   "execution_count": 19,
   "metadata": {},
   "outputs": [
    {
     "data": {
      "text/plain": [
       "337.6319518592493"
      ]
     },
     "execution_count": 19,
     "metadata": {},
     "output_type": "execute_result"
    }
   ],
   "source": [
    "# Информация Фишера (оценка)\n",
    "def fisher(a):\n",
    "    return 2 / (a**2) + 25 / (1 - 5 * a)**2 # E(-H)\n",
    "\n",
    "Ifi_hat = fisher(a_hat)\n",
    "Ifi_hat"
   ]
  },
  {
   "cell_type": "code",
   "execution_count": 20,
   "metadata": {},
   "outputs": [
    {
     "data": {
      "text/plain": [
       "0.0029618049905918743"
      ]
     },
     "execution_count": 20,
     "metadata": {},
     "output_type": "execute_result"
    }
   ],
   "source": [
    "# Оценка дисперсии оценки\n",
    "var_a_hat = 1 / Ifi_hat\n",
    "var_a_hat"
   ]
  },
  {
   "cell_type": "code",
   "execution_count": 53,
   "metadata": {},
   "outputs": [
    {
     "name": "stdout",
     "output_type": "stream",
     "text": [
      "a \\in [0.026691; 0.240027]\n"
     ]
    }
   ],
   "source": [
    "# 95% доверительный интервал для а\n",
    "left_bound = a_hat - 1.96 * np.sqrt(var_a_hat)\n",
    "right_bound = a_hat + 1.96 * np.sqrt(var_a_hat)\n",
    "print('a \\in [%f; %f]' % (left_bound, right_bound))"
   ]
  },
  {
   "cell_type": "markdown",
   "metadata": {},
   "source": [
    "#### Пример с непрерывным распределением (задачи 2-7 с семинара)"
   ]
  },
  {
   "cell_type": "code",
   "execution_count": 28,
   "metadata": {},
   "outputs": [],
   "source": [
    "# Выборка\n",
    "x = np.array([-3, 4, 2])"
   ]
  },
  {
   "cell_type": "code",
   "execution_count": 42,
   "metadata": {},
   "outputs": [],
   "source": [
    "# Минус логарифм правдоподобия\n",
    "def loglike(params, x):\n",
    "    mu = params[0]\n",
    "    sigma = params[1]\n",
    "    n = len(x)\n",
    "    ll = - n / 2 * np.log(2 * np.pi) - n * np.log(sigma) - 1 / (2 * sigma **2) * np.sum(np.square(x - mu))\n",
    "    return -ll # Сразу для оптимизации"
   ]
  },
  {
   "cell_type": "code",
   "execution_count": 43,
   "metadata": {},
   "outputs": [
    {
     "data": {
      "text/plain": [
       " final_simplex: (array([[0.99996103, 2.94392472],\n",
       "       [1.00003802, 2.94389763],\n",
       "       [0.99995001, 2.94384932]]), array([7.49604197, 7.49604197, 7.49604198]))\n",
       "           fun: 7.496041973913671\n",
       "       message: 'Optimization terminated successfully.'\n",
       "          nfev: 121\n",
       "           nit: 64\n",
       "        status: 0\n",
       "       success: True\n",
       "             x: array([0.99996103, 2.94392472])"
      ]
     },
     "execution_count": 43,
     "metadata": {},
     "output_type": "execute_result"
    }
   ],
   "source": [
    "optimize.minimize(loglike, (0, 1), x, method = 'Nelder-Mead')"
   ]
  },
  {
   "cell_type": "code",
   "execution_count": 44,
   "metadata": {},
   "outputs": [],
   "source": [
    "# Оценки получились очень близкими к посчитанным на семинаре\n",
    "mu_hat = 0.99996103\n",
    "sigma_hat = 2.94392472\n",
    "sigma_hat_sq = sigma_hat ** 2"
   ]
  },
  {
   "cell_type": "code",
   "execution_count": 47,
   "metadata": {},
   "outputs": [
    {
     "data": {
      "text/plain": [
       "array([[0.3461528 , 0.        ],\n",
       "       [0.        , 0.69230561]])"
      ]
     },
     "execution_count": 47,
     "metadata": {},
     "output_type": "execute_result"
    }
   ],
   "source": [
    "# Информация Фишера (оценка)\n",
    "Ifi_hat = np.array([[len(x) / sigma_hat_sq, 0],\n",
    "                    [0, 2 * len(x) / sigma_hat_sq]])\n",
    "Ifi_hat"
   ]
  },
  {
   "cell_type": "code",
   "execution_count": 49,
   "metadata": {},
   "outputs": [
    {
     "data": {
      "text/plain": [
       "array([[2.88889759, 0.        ],\n",
       "       [0.        , 1.44444879]])"
      ]
     },
     "execution_count": 49,
     "metadata": {},
     "output_type": "execute_result"
    }
   ],
   "source": [
    "# Оценка дисперсии оценок\n",
    "var_hat = np.linalg.inv(Ifi_hat)\n",
    "var_hat"
   ]
  },
  {
   "cell_type": "code",
   "execution_count": 52,
   "metadata": {},
   "outputs": [
    {
     "name": "stdout",
     "output_type": "stream",
     "text": [
      "mu \\in [-2.331403; 4.331325]\n"
     ]
    }
   ],
   "source": [
    "# 95%-ый доверительный интервал для mu\n",
    "left_bound = mu_hat - 1.96 * np.sqrt(var_hat[0, 0])\n",
    "right_bound = mu_hat + 1.96 * np.sqrt(var_hat[0, 0])\n",
    "print('mu \\in [%f; %f]' % (left_bound, right_bound))"
   ]
  },
  {
   "cell_type": "code",
   "execution_count": null,
   "metadata": {},
   "outputs": [],
   "source": []
  }
 ],
 "metadata": {
  "kernelspec": {
   "display_name": "Python 3",
   "language": "python",
   "name": "python3"
  },
  "language_info": {
   "codemirror_mode": {
    "name": "ipython",
    "version": 3
   },
   "file_extension": ".py",
   "mimetype": "text/x-python",
   "name": "python",
   "nbconvert_exporter": "python",
   "pygments_lexer": "ipython3",
   "version": "3.7.6"
  }
 },
 "nbformat": 4,
 "nbformat_minor": 4
}
